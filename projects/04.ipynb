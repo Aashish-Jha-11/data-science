{
 "cells": [
  {
   "cell_type": "code",
   "execution_count": 46,
   "metadata": {
    "vscode": {
     "languageId": "r"
    }
   },
   "outputs": [
    {
     "data": {
      "text/html": [
       "<table class=\"dataframe\">\n",
       "<caption>A data.frame: 150 × 3</caption>\n",
       "<thead>\n",
       "\t<tr><th scope=col>Sr..No.</th><th scope=col>Name</th><th scope=col>Travelledabroad</th></tr>\n",
       "\t<tr><th scope=col>&lt;int&gt;</th><th scope=col>&lt;chr&gt;</th><th scope=col>&lt;chr&gt;</th></tr>\n",
       "</thead>\n",
       "<tbody>\n",
       "\t<tr><td> 1</td><td>Asmita        </td><td>Y</td></tr>\n",
       "\t<tr><td> 2</td><td>Anita         </td><td>Y</td></tr>\n",
       "\t<tr><td> 3</td><td>Yashodhan     </td><td>N</td></tr>\n",
       "\t<tr><td> 4</td><td>Rangappa      </td><td>Y</td></tr>\n",
       "\t<tr><td> 5</td><td>Kamala        </td><td>Y</td></tr>\n",
       "\t<tr><td> 6</td><td>Kirti         </td><td>N</td></tr>\n",
       "\t<tr><td> 7</td><td>Abhijit       </td><td>N</td></tr>\n",
       "\t<tr><td> 8</td><td>Sunil         </td><td>N</td></tr>\n",
       "\t<tr><td> 9</td><td>Premanand     </td><td>N</td></tr>\n",
       "\t<tr><td>10</td><td>Sandip        </td><td>N</td></tr>\n",
       "\t<tr><td>11</td><td>Shraddha      </td><td>Y</td></tr>\n",
       "\t<tr><td>12</td><td>Chandrashekhar</td><td>Y</td></tr>\n",
       "\t<tr><td>13</td><td>Manpreet      </td><td>Y</td></tr>\n",
       "\t<tr><td>14</td><td>Gurpreet      </td><td>N</td></tr>\n",
       "\t<tr><td>15</td><td>Nityanand     </td><td>N</td></tr>\n",
       "\t<tr><td>16</td><td>Soumendu      </td><td>Y</td></tr>\n",
       "\t<tr><td>17</td><td>Nithya        </td><td>Y</td></tr>\n",
       "\t<tr><td>18</td><td>Nachiket      </td><td>N</td></tr>\n",
       "\t<tr><td>19</td><td>Yadnesh       </td><td>N</td></tr>\n",
       "\t<tr><td>20</td><td>Yadunath      </td><td>Y</td></tr>\n",
       "\t<tr><td>21</td><td>Nancy         </td><td>Y</td></tr>\n",
       "\t<tr><td>22</td><td>Babulal       </td><td>Y</td></tr>\n",
       "\t<tr><td>23</td><td>Jiten         </td><td>Y</td></tr>\n",
       "\t<tr><td>24</td><td>Shaunak       </td><td>N</td></tr>\n",
       "\t<tr><td>25</td><td>Sukhbeer      </td><td>N</td></tr>\n",
       "\t<tr><td>26</td><td>Achintya      </td><td>N</td></tr>\n",
       "\t<tr><td>27</td><td>Meghana       </td><td>Y</td></tr>\n",
       "\t<tr><td>28</td><td>Sanjukta      </td><td>Y</td></tr>\n",
       "\t<tr><td>29</td><td>Adhiraj       </td><td>Y</td></tr>\n",
       "\t<tr><td>30</td><td>Prithvi       </td><td>N</td></tr>\n",
       "\t<tr><td>⋮</td><td>⋮</td><td>⋮</td></tr>\n",
       "\t<tr><td>121</td><td>Tarun        </td><td>Y</td></tr>\n",
       "\t<tr><td>122</td><td>Pranav       </td><td>N</td></tr>\n",
       "\t<tr><td>123</td><td>Maanavendra  </td><td>N</td></tr>\n",
       "\t<tr><td>124</td><td>Dhananjay    </td><td>Y</td></tr>\n",
       "\t<tr><td>125</td><td>Celine       </td><td>N</td></tr>\n",
       "\t<tr><td>126</td><td>Sylvia       </td><td>Y</td></tr>\n",
       "\t<tr><td>127</td><td>Narmada      </td><td>Y</td></tr>\n",
       "\t<tr><td>128</td><td>Shrutika     </td><td>Y</td></tr>\n",
       "\t<tr><td>129</td><td>Kalapini     </td><td>Y</td></tr>\n",
       "\t<tr><td>130</td><td>Bijoy        </td><td>N</td></tr>\n",
       "\t<tr><td>131</td><td>Sanjay       </td><td>N</td></tr>\n",
       "\t<tr><td>132</td><td>Nibedita     </td><td>N</td></tr>\n",
       "\t<tr><td>133</td><td>Anupama      </td><td>Y</td></tr>\n",
       "\t<tr><td>134</td><td>Narsimhan    </td><td>Y</td></tr>\n",
       "\t<tr><td>135</td><td>Mahalingam   </td><td>Y</td></tr>\n",
       "\t<tr><td>136</td><td>Murugan      </td><td>Y</td></tr>\n",
       "\t<tr><td>137</td><td>Manojaya     </td><td>N</td></tr>\n",
       "\t<tr><td>138</td><td>Nishit       </td><td>N</td></tr>\n",
       "\t<tr><td>139</td><td>Mukutbihari  </td><td>N</td></tr>\n",
       "\t<tr><td>140</td><td>Chandraprasad</td><td>N</td></tr>\n",
       "\t<tr><td>141</td><td>Dinanath     </td><td>Y</td></tr>\n",
       "\t<tr><td>142</td><td>Suryapratap  </td><td>Y</td></tr>\n",
       "\t<tr><td>143</td><td>Ummaidsingh  </td><td>N</td></tr>\n",
       "\t<tr><td>144</td><td>Ratanpal     </td><td>Y</td></tr>\n",
       "\t<tr><td>145</td><td>Saumya       </td><td>Y</td></tr>\n",
       "\t<tr><td>146</td><td>Nilofer      </td><td>N</td></tr>\n",
       "\t<tr><td>147</td><td>Laetetia     </td><td>N</td></tr>\n",
       "\t<tr><td>148</td><td>Bina         </td><td>N</td></tr>\n",
       "\t<tr><td>149</td><td>Veena        </td><td>N</td></tr>\n",
       "\t<tr><td>150</td><td>Chokkalingam </td><td>Y</td></tr>\n",
       "</tbody>\n",
       "</table>\n"
      ],
      "text/latex": [
       "A data.frame: 150 × 3\n",
       "\\begin{tabular}{lll}\n",
       " Sr..No. & Name & Travelledabroad\\\\\n",
       " <int> & <chr> & <chr>\\\\\n",
       "\\hline\n",
       "\t  1 & Asmita         & Y\\\\\n",
       "\t  2 & Anita          & Y\\\\\n",
       "\t  3 & Yashodhan      & N\\\\\n",
       "\t  4 & Rangappa       & Y\\\\\n",
       "\t  5 & Kamala         & Y\\\\\n",
       "\t  6 & Kirti          & N\\\\\n",
       "\t  7 & Abhijit        & N\\\\\n",
       "\t  8 & Sunil          & N\\\\\n",
       "\t  9 & Premanand      & N\\\\\n",
       "\t 10 & Sandip         & N\\\\\n",
       "\t 11 & Shraddha       & Y\\\\\n",
       "\t 12 & Chandrashekhar & Y\\\\\n",
       "\t 13 & Manpreet       & Y\\\\\n",
       "\t 14 & Gurpreet       & N\\\\\n",
       "\t 15 & Nityanand      & N\\\\\n",
       "\t 16 & Soumendu       & Y\\\\\n",
       "\t 17 & Nithya         & Y\\\\\n",
       "\t 18 & Nachiket       & N\\\\\n",
       "\t 19 & Yadnesh        & N\\\\\n",
       "\t 20 & Yadunath       & Y\\\\\n",
       "\t 21 & Nancy          & Y\\\\\n",
       "\t 22 & Babulal        & Y\\\\\n",
       "\t 23 & Jiten          & Y\\\\\n",
       "\t 24 & Shaunak        & N\\\\\n",
       "\t 25 & Sukhbeer       & N\\\\\n",
       "\t 26 & Achintya       & N\\\\\n",
       "\t 27 & Meghana        & Y\\\\\n",
       "\t 28 & Sanjukta       & Y\\\\\n",
       "\t 29 & Adhiraj        & Y\\\\\n",
       "\t 30 & Prithvi        & N\\\\\n",
       "\t ⋮ & ⋮ & ⋮\\\\\n",
       "\t 121 & Tarun         & Y\\\\\n",
       "\t 122 & Pranav        & N\\\\\n",
       "\t 123 & Maanavendra   & N\\\\\n",
       "\t 124 & Dhananjay     & Y\\\\\n",
       "\t 125 & Celine        & N\\\\\n",
       "\t 126 & Sylvia        & Y\\\\\n",
       "\t 127 & Narmada       & Y\\\\\n",
       "\t 128 & Shrutika      & Y\\\\\n",
       "\t 129 & Kalapini      & Y\\\\\n",
       "\t 130 & Bijoy         & N\\\\\n",
       "\t 131 & Sanjay        & N\\\\\n",
       "\t 132 & Nibedita      & N\\\\\n",
       "\t 133 & Anupama       & Y\\\\\n",
       "\t 134 & Narsimhan     & Y\\\\\n",
       "\t 135 & Mahalingam    & Y\\\\\n",
       "\t 136 & Murugan       & Y\\\\\n",
       "\t 137 & Manojaya      & N\\\\\n",
       "\t 138 & Nishit        & N\\\\\n",
       "\t 139 & Mukutbihari   & N\\\\\n",
       "\t 140 & Chandraprasad & N\\\\\n",
       "\t 141 & Dinanath      & Y\\\\\n",
       "\t 142 & Suryapratap   & Y\\\\\n",
       "\t 143 & Ummaidsingh   & N\\\\\n",
       "\t 144 & Ratanpal      & Y\\\\\n",
       "\t 145 & Saumya        & Y\\\\\n",
       "\t 146 & Nilofer       & N\\\\\n",
       "\t 147 & Laetetia      & N\\\\\n",
       "\t 148 & Bina          & N\\\\\n",
       "\t 149 & Veena         & N\\\\\n",
       "\t 150 & Chokkalingam  & Y\\\\\n",
       "\\end{tabular}\n"
      ],
      "text/markdown": [
       "\n",
       "A data.frame: 150 × 3\n",
       "\n",
       "| Sr..No. &lt;int&gt; | Name &lt;chr&gt; | Travelledabroad &lt;chr&gt; |\n",
       "|---|---|---|\n",
       "|  1 | Asmita         | Y |\n",
       "|  2 | Anita          | Y |\n",
       "|  3 | Yashodhan      | N |\n",
       "|  4 | Rangappa       | Y |\n",
       "|  5 | Kamala         | Y |\n",
       "|  6 | Kirti          | N |\n",
       "|  7 | Abhijit        | N |\n",
       "|  8 | Sunil          | N |\n",
       "|  9 | Premanand      | N |\n",
       "| 10 | Sandip         | N |\n",
       "| 11 | Shraddha       | Y |\n",
       "| 12 | Chandrashekhar | Y |\n",
       "| 13 | Manpreet       | Y |\n",
       "| 14 | Gurpreet       | N |\n",
       "| 15 | Nityanand      | N |\n",
       "| 16 | Soumendu       | Y |\n",
       "| 17 | Nithya         | Y |\n",
       "| 18 | Nachiket       | N |\n",
       "| 19 | Yadnesh        | N |\n",
       "| 20 | Yadunath       | Y |\n",
       "| 21 | Nancy          | Y |\n",
       "| 22 | Babulal        | Y |\n",
       "| 23 | Jiten          | Y |\n",
       "| 24 | Shaunak        | N |\n",
       "| 25 | Sukhbeer       | N |\n",
       "| 26 | Achintya       | N |\n",
       "| 27 | Meghana        | Y |\n",
       "| 28 | Sanjukta       | Y |\n",
       "| 29 | Adhiraj        | Y |\n",
       "| 30 | Prithvi        | N |\n",
       "| ⋮ | ⋮ | ⋮ |\n",
       "| 121 | Tarun         | Y |\n",
       "| 122 | Pranav        | N |\n",
       "| 123 | Maanavendra   | N |\n",
       "| 124 | Dhananjay     | Y |\n",
       "| 125 | Celine        | N |\n",
       "| 126 | Sylvia        | Y |\n",
       "| 127 | Narmada       | Y |\n",
       "| 128 | Shrutika      | Y |\n",
       "| 129 | Kalapini      | Y |\n",
       "| 130 | Bijoy         | N |\n",
       "| 131 | Sanjay        | N |\n",
       "| 132 | Nibedita      | N |\n",
       "| 133 | Anupama       | Y |\n",
       "| 134 | Narsimhan     | Y |\n",
       "| 135 | Mahalingam    | Y |\n",
       "| 136 | Murugan       | Y |\n",
       "| 137 | Manojaya      | N |\n",
       "| 138 | Nishit        | N |\n",
       "| 139 | Mukutbihari   | N |\n",
       "| 140 | Chandraprasad | N |\n",
       "| 141 | Dinanath      | Y |\n",
       "| 142 | Suryapratap   | Y |\n",
       "| 143 | Ummaidsingh   | N |\n",
       "| 144 | Ratanpal      | Y |\n",
       "| 145 | Saumya        | Y |\n",
       "| 146 | Nilofer       | N |\n",
       "| 147 | Laetetia      | N |\n",
       "| 148 | Bina          | N |\n",
       "| 149 | Veena         | N |\n",
       "| 150 | Chokkalingam  | Y |\n",
       "\n"
      ],
      "text/plain": [
       "    Sr..No. Name           Travelledabroad\n",
       "1    1      Asmita         Y              \n",
       "2    2      Anita          Y              \n",
       "3    3      Yashodhan      N              \n",
       "4    4      Rangappa       Y              \n",
       "5    5      Kamala         Y              \n",
       "6    6      Kirti          N              \n",
       "7    7      Abhijit        N              \n",
       "8    8      Sunil          N              \n",
       "9    9      Premanand      N              \n",
       "10  10      Sandip         N              \n",
       "11  11      Shraddha       Y              \n",
       "12  12      Chandrashekhar Y              \n",
       "13  13      Manpreet       Y              \n",
       "14  14      Gurpreet       N              \n",
       "15  15      Nityanand      N              \n",
       "16  16      Soumendu       Y              \n",
       "17  17      Nithya         Y              \n",
       "18  18      Nachiket       N              \n",
       "19  19      Yadnesh        N              \n",
       "20  20      Yadunath       Y              \n",
       "21  21      Nancy          Y              \n",
       "22  22      Babulal        Y              \n",
       "23  23      Jiten          Y              \n",
       "24  24      Shaunak        N              \n",
       "25  25      Sukhbeer       N              \n",
       "26  26      Achintya       N              \n",
       "27  27      Meghana        Y              \n",
       "28  28      Sanjukta       Y              \n",
       "29  29      Adhiraj        Y              \n",
       "30  30      Prithvi        N              \n",
       "⋮   ⋮       ⋮              ⋮              \n",
       "121 121     Tarun          Y              \n",
       "122 122     Pranav         N              \n",
       "123 123     Maanavendra    N              \n",
       "124 124     Dhananjay      Y              \n",
       "125 125     Celine         N              \n",
       "126 126     Sylvia         Y              \n",
       "127 127     Narmada        Y              \n",
       "128 128     Shrutika       Y              \n",
       "129 129     Kalapini       Y              \n",
       "130 130     Bijoy          N              \n",
       "131 131     Sanjay         N              \n",
       "132 132     Nibedita       N              \n",
       "133 133     Anupama        Y              \n",
       "134 134     Narsimhan      Y              \n",
       "135 135     Mahalingam     Y              \n",
       "136 136     Murugan        Y              \n",
       "137 137     Manojaya       N              \n",
       "138 138     Nishit         N              \n",
       "139 139     Mukutbihari    N              \n",
       "140 140     Chandraprasad  N              \n",
       "141 141     Dinanath       Y              \n",
       "142 142     Suryapratap    Y              \n",
       "143 143     Ummaidsingh    N              \n",
       "144 144     Ratanpal       Y              \n",
       "145 145     Saumya         Y              \n",
       "146 146     Nilofer        N              \n",
       "147 147     Laetetia       N              \n",
       "148 148     Bina           N              \n",
       "149 149     Veena          N              \n",
       "150 150     Chokkalingam   Y              "
      ]
     },
     "metadata": {},
     "output_type": "display_data"
    }
   ],
   "source": [
    "f <- read.csv(\"../datasets/travelled abroad_csv.csv\")\n",
    "f"
   ]
  },
  {
   "cell_type": "code",
   "execution_count": 47,
   "metadata": {
    "vscode": {
     "languageId": "r"
    }
   },
   "outputs": [
    {
     "data": {
      "text/html": [
       "84"
      ],
      "text/latex": [
       "84"
      ],
      "text/markdown": [
       "84"
      ],
      "text/plain": [
       "[1] 84"
      ]
     },
     "metadata": {},
     "output_type": "display_data"
    },
    {
     "data": {
      "text/html": [
       "66"
      ],
      "text/latex": [
       "66"
      ],
      "text/markdown": [
       "66"
      ],
      "text/plain": [
       "[1] 66"
      ]
     },
     "metadata": {},
     "output_type": "display_data"
    }
   ],
   "source": [
    "#length(f[which(f$Travelledabroad == 'Y')])\n",
    "\n",
    "a <- f[which(f$Travelledabroad == 'Y'), c()]\n",
    "nrow(a)\n",
    "\n",
    "b <- f[which(f$Travelledabroad == 'N'), c()]\n",
    "nrow(b)"
   ]
  },
  {
   "cell_type": "code",
   "execution_count": null,
   "metadata": {
    "vscode": {
     "languageId": "r"
    }
   },
   "outputs": [],
   "source": []
  },
  {
   "cell_type": "markdown",
   "metadata": {},
   "source": [
    "plot:\n",
    "probability on Y axis\n",
    "n on x axis\n",
    "\n",
    "n = 1 to 10 on X- axis\n",
    "p(k = 1 to 10) on Y- axis\n",
    "\n",
    "sf rule: n*p >= 10"
   ]
  },
  {
   "cell_type": "markdown",
   "metadata": {},
   "source": []
  },
  {
   "cell_type": "code",
   "execution_count": 48,
   "metadata": {
    "vscode": {
     "languageId": "r"
    }
   },
   "outputs": [
    {
     "data": {
      "text/html": [
       "0.542857996759858"
      ],
      "text/latex": [
       "0.542857996759858"
      ],
      "text/markdown": [
       "0.542857996759858"
      ],
      "text/plain": [
       "[1] 0.542858"
      ]
     },
     "metadata": {},
     "output_type": "display_data"
    }
   ],
   "source": [
    "d <- sum(dbinom(59: 100, 100, 0.59))\n",
    "d"
   ]
  },
  {
   "cell_type": "code",
   "execution_count": 49,
   "metadata": {
    "vscode": {
     "languageId": "r"
    }
   },
   "outputs": [
    {
     "data": {
      "text/html": [
       "0.75"
      ],
      "text/latex": [
       "0.75"
      ],
      "text/markdown": [
       "0.75"
      ],
      "text/plain": [
       "[1] 0.75"
      ]
     },
     "metadata": {},
     "output_type": "display_data"
    }
   ],
   "source": [
    "d <- sum(dbinom(1:2, 2, 0.50))\n",
    "d"
   ]
  },
  {
   "cell_type": "code",
   "execution_count": 50,
   "metadata": {
    "vscode": {
     "languageId": "r"
    }
   },
   "outputs": [
    {
     "data": {
      "text/html": [
       "75"
      ],
      "text/latex": [
       "75"
      ],
      "text/markdown": [
       "75"
      ],
      "text/plain": [
       "[1] 75"
      ]
     },
     "metadata": {},
     "output_type": "display_data"
    },
    {
     "data": {
      "text/html": [
       "4.33012701892219"
      ],
      "text/latex": [
       "4.33012701892219"
      ],
      "text/markdown": [
       "4.33012701892219"
      ],
      "text/plain": [
       "[1] 4.330127"
      ]
     },
     "metadata": {},
     "output_type": "display_data"
    },
    {
     "data": {
      "text/html": [
       "0.000109925341319202"
      ],
      "text/latex": [
       "0.000109925341319202"
      ],
      "text/markdown": [
       "0.000109925341319202"
      ],
      "text/plain": [
       "[1] 0.0001099253"
      ]
     },
     "metadata": {},
     "output_type": "display_data"
    },
    {
     "data": {
      "text/html": [
       "0.999890074658681"
      ],
      "text/latex": [
       "0.999890074658681"
      ],
      "text/markdown": [
       "0.999890074658681"
      ],
      "text/plain": [
       "[1] 0.9998901"
      ]
     },
     "metadata": {},
     "output_type": "display_data"
    }
   ],
   "source": [
    "#p <- pnorm(observed value, mean, std dev)\n",
    "meow <- 100 * d\n",
    "sigma <- sqrt(100 * d * (1 - d))\n",
    "meow\n",
    "sigma\n",
    "k <- pnorm(59, meow, sigma)\n",
    "k\n",
    "\n",
    "#gives right side value (subtracts from 1s)\n",
    "r <- pnorm(59, meow, sigma, lower.tail = F)\n",
    "r"
   ]
  },
  {
   "cell_type": "markdown",
   "metadata": {},
   "source": [
    "answer is almost 0.272"
   ]
  },
  {
   "cell_type": "code",
   "execution_count": 51,
   "metadata": {
    "vscode": {
     "languageId": "r"
    }
   },
   "outputs": [],
   "source": [
    "d_t <- dbinom(0:100,100 , r)"
   ]
  },
  {
   "cell_type": "code",
   "execution_count": 52,
   "metadata": {
    "vscode": {
     "languageId": "r"
    }
   },
   "outputs": [],
   "source": [
    "library(\"ggplot2\")"
   ]
  },
  {
   "cell_type": "code",
   "execution_count": 53,
   "metadata": {
    "vscode": {
     "languageId": "r"
    }
   },
   "outputs": [
    {
     "data": {
      "image/png": "[encoded data removed]",
      "text/plain": [
       "plot without title"
      ]
     },
     "metadata": {
      "image/png": {
       "height": 420,
       "width": 420
      }
     },
     "output_type": "display_data"
    }
   ],
   "source": [
    "plot(0:100,d_t, type = 'l' )"
   ]
  },
  {
   "cell_type": "code",
   "execution_count": 58,
   "metadata": {
    "vscode": {
     "languageId": "r"
    }
   },
   "outputs": [
    {
     "data": {
      "text/html": [
       "0.56"
      ],
      "text/latex": [
       "0.56"
      ],
      "text/markdown": [
       "0.56"
      ],
      "text/plain": [
       "[1] 0.56"
      ]
     },
     "metadata": {},
     "output_type": "display_data"
    },
    {
     "name": "stdout",
     "output_type": "stream",
     "text": [
      "Percentage of Indians who have traveled abroad: 56 %\n",
      "Probability of no one has traveled abroad: 0.0002719736 \n",
      "Probability of exactly one person has traveled abroad: 0.003461482 \n",
      "Probability of exactly two persons have traveled abroad: 0.01982485 \n",
      "Probability of exactly three persons have traveled abroad: 0.06728435 \n",
      "Probability of exactly four persons have traveled abroad: 0.1498606 \n",
      "Probability of exactly five persons have traveled abroad: 0.228878 \n",
      "Probability of exactly six persons have traveled abroad: 0.2427494 \n",
      "Probability of exactly seven persons have traveled abroad: 0.176545 \n",
      "Probability of exactly eight persons have traveled abroad: 0.08426012 \n",
      "Probability of exactly nine persons have traveled abroad: 0.02383115 \n",
      "Probability of all ten persons have traveled abroad: 0.003033055 \n"
     ]
    },
    {
     "data": {
      "text/html": [
       "0.56"
      ],
      "text/latex": [
       "0.56"
      ],
      "text/markdown": [
       "0.56"
      ],
      "text/plain": [
       "[1] 0.56"
      ]
     },
     "metadata": {},
     "output_type": "display_data"
    },
    {
     "name": "stdout",
     "output_type": "stream",
     "text": [
      "[1] \"MEan: \"\n"
     ]
    },
    {
     "data": {
      "text/html": [
       "56"
      ],
      "text/latex": [
       "56"
      ],
      "text/markdown": [
       "56"
      ],
      "text/plain": [
       "[1] 56"
      ]
     },
     "metadata": {},
     "output_type": "display_data"
    },
    {
     "name": "stdout",
     "output_type": "stream",
     "text": [
      "[1] \"Std Dev: \"\n"
     ]
    },
    {
     "data": {
      "text/html": [
       "4.96386945839634"
      ],
      "text/latex": [
       "4.96386945839634"
      ],
      "text/markdown": [
       "4.96386945839634"
      ],
      "text/plain": [
       "[1] 4.963869"
      ]
     },
     "metadata": {},
     "output_type": "display_data"
    },
    {
     "name": "stdout",
     "output_type": "stream",
     "text": [
      "Probability that at least 59 persons have traveled abroad in a sample of 100 (using normal approximation): 0.2727998 \n",
      "Probability that at least 59 persons have traveled abroad in a sample of 100: 0.3084356 \n"
     ]
    },
    {
     "data": {
      "image/png": "[encoded data removed]",
      "text/plain": [
       "plot without title"
      ]
     },
     "metadata": {
      "image/png": {
       "height": 420,
       "width": 420
      }
     },
     "output_type": "display_data"
    }
   ],
   "source": [
    "\n",
    "library(dplyr)\n",
    "\n",
    "\n",
    "df <- read.csv(\"../datasets/travelled abroad_csv.csv\")\n",
    "\n",
    "percent_indians_abroad <- mean(df$Travelledabroad == \"Y\") * 100\n",
    "\n",
    "\n",
    "p <- percent_indians_abroad / 100\n",
    "p\n",
    "\n",
    "n <- 10\n",
    "\n",
    "# a. Probability that in a randomly chosen sample of 10 persons, no one has traveled abroad\n",
    "prob_no_one_abroad <- dbinom(0, size = n, prob = p)\n",
    "\n",
    "# b. Probability that in a randomly chosen sample of 10 persons, exactly one has traveled abroad\n",
    "prob_one_abroad <- dbinom(1, size = n, prob = p)\n",
    "\n",
    "# c. Probability that in a randomly chosen sample of 10 persons, exactly two persons have traveled abroad\n",
    "prob_two_abroad <- dbinom(2, size = n, prob = p)\n",
    "\n",
    "# d. Probability that in a randomly chosen sample of 10 persons, exactly three persons have traveled abroad\n",
    "prob_three_abroad <- dbinom(3, size = n, prob = p)\n",
    "\n",
    "# e. Probability that in a randomly chosen sample of 10 persons, exactly four persons have traveled abroad\n",
    "prob_four_abroad <- dbinom(4, size = n, prob = p)\n",
    "\n",
    "# f. Probability that in a randomly chosen sample of 10 persons, exactly five persons have traveled abroad\n",
    "prob_five_abroad <- dbinom(5, size = n, prob = p)\n",
    "\n",
    "# g. Probability that in a randomly chosen sample of 10 persons, exactly six persons have traveled abroad\n",
    "prob_six_abroad <- dbinom(6, size = n, prob = p)\n",
    "\n",
    "# h. Probability that in a randomly chosen sample of 10 persons, exactly seven persons have traveled abroad\n",
    "prob_seven_abroad <- dbinom(7, size = n, prob = p)\n",
    "\n",
    "# i. Probability that in a randomly chosen sample of 10 persons, exactly eight persons have traveled abroad\n",
    "prob_eight_abroad <- dbinom(8, size = n, prob = p)\n",
    "\n",
    "# j. Probability that in a randomly chosen sample of 10 persons, exactly nine persons have traveled abroad\n",
    "prob_nine_abroad <- dbinom(9, size = n, prob = p)\n",
    "\n",
    "# k. Probability that in a randomly chosen sample of 10 persons, all 10 persons have traveled abroad\n",
    "prob_all_ten_abroad <- dbinom(10, size = n, prob = p)\n",
    "\n",
    "\n",
    "cat(\"Percentage of Indians who have traveled abroad:\", percent_indians_abroad, \"%\\n\")\n",
    "cat(\"Probability of no one has traveled abroad:\", prob_no_one_abroad, \"\\n\")\n",
    "cat(\"Probability of exactly one person has traveled abroad:\", prob_one_abroad, \"\\n\")\n",
    "cat(\"Probability of exactly two persons have traveled abroad:\", prob_two_abroad, \"\\n\")\n",
    "cat(\"Probability of exactly three persons have traveled abroad:\", prob_three_abroad, \"\\n\")\n",
    "cat(\"Probability of exactly four persons have traveled abroad:\", prob_four_abroad, \"\\n\")\n",
    "cat(\"Probability of exactly five persons have traveled abroad:\", prob_five_abroad, \"\\n\")\n",
    "cat(\"Probability of exactly six persons have traveled abroad:\", prob_six_abroad, \"\\n\")\n",
    "cat(\"Probability of exactly seven persons have traveled abroad:\", prob_seven_abroad, \"\\n\")\n",
    "cat(\"Probability of exactly eight persons have traveled abroad:\", prob_eight_abroad, \"\\n\")\n",
    "cat(\"Probability of exactly nine persons have traveled abroad:\", prob_nine_abroad, \"\\n\")\n",
    "cat(\"Probability of all ten persons have traveled abroad:\", prob_all_ten_abroad, \"\\n\")\n",
    "\n",
    "\n",
    "# Create a data frame with probabilities and scenario numbers\n",
    "probabilities <- data.frame(\n",
    "  Scenario = 1:10,\n",
    "  Probability = c(prob_one_abroad, prob_two_abroad, prob_three_abroad, \n",
    "                  prob_four_abroad, prob_five_abroad, prob_six_abroad, prob_seven_abroad, \n",
    "                  prob_eight_abroad, prob_nine_abroad, prob_all_ten_abroad)\n",
    ")\n",
    "\n",
    "# Plot as a bar graph\n",
    "bar_plot <- ggplot  (probabilities, aes(x = Scenario, y = Probability)) +\n",
    "  geom_bar(stat = \"identity\", color = \"black\", fill = \"skyblue\") +\n",
    "  labs(title = \"Probability of Number of Persons Who Have Traveled Abroad\",\n",
    "       x = \"Number of Persons Who Have Traveled Abroad\",\n",
    "       y = \"Probability\") +\n",
    "  theme_minimal() +\n",
    "  theme(plot.title = element_text(hjust = 0.5))\n",
    "\n",
    "# Print the bar plot\n",
    "print(bar_plot)\n",
    "\n",
    "\n",
    "\n",
    "n <- 100\n",
    "p <- percent_indians_abroad / 100  \n",
    "p\n",
    "\n",
    "\n",
    "mu <- n * p\n",
    "sigma <- sqrt(n * p * (1 - p))\n",
    "\n",
    "print(\"MEan: \")\n",
    "mu\n",
    "print(\"Std Dev: \")\n",
    "sigma\n",
    "prob_at_least_59_abroad <- 1 - pnorm(59, mean = mu, sd = sigma, lower.tail = TRUE)\n",
    "\n",
    " \n",
    " cat(\"Probability that at least 59 persons have traveled abroad in a sample of 100 (using normal approximation):\", prob_at_least_59_abroad, \"\\n\")\n",
    "\n",
    " \n",
    "library(ggplot2)\n",
    "\n",
    "\n",
    "n <- 100  \n",
    "p <- percent_indians_abroad / 100 \n",
    "\n",
    "\n",
    "prob_at_1east_59_abroad <- sum(dbinom(59:100, 100, p))\n",
    "\n",
    "#\n",
    "cat(\"Probability that at least 59 persons have traveled abroad in a sample of 100:\", prob_at_1east_59_abroad, \"\\n\")\n",
    "\n",
    "\n",
    "\n",
    "\n",
    "\n"
   ]
  },
  {
   "cell_type": "markdown",
   "metadata": {},
   "source": [
    "---"
   ]
  },
  {
   "cell_type": "markdown",
   "metadata": {},
   "source": [
    "exp 2:\n",
    "console madhe \n",
    "\n",
    "1. Percentage value\n",
    "2. Probability with n = 10 is \n",
    "3. \n",
    "\n",
    "\n",
    "4. 1 plot for n = 10\n",
    "   1 plot for n = 100"
   ]
  },
  {
   "cell_type": "markdown",
   "metadata": {},
   "source": [
    "exp 1:\n",
    "\n",
    "3 dataset plus 2 plots"
   ]
  },
  {
   "cell_type": "code",
   "execution_count": 55,
   "metadata": {
    "vscode": {
     "languageId": "r"
    }
   },
   "outputs": [
    {
     "data": {
      "text/html": [
       "0.56"
      ],
      "text/latex": [
       "0.56"
      ],
      "text/markdown": [
       "0.56"
      ],
      "text/plain": [
       "[1] 0.56"
      ]
     },
     "metadata": {},
     "output_type": "display_data"
    },
    {
     "name": "stdout",
     "output_type": "stream",
     "text": [
      "Probability that at least 59 persons have traveled abroad in a sample of 100 (using normal approximation): 0.7272002 \n"
     ]
    }
   ],
   "source": [
    "\n",
    "n <- 100\n",
    "p <- percent_indians_abroad / 100  \n",
    "p\n",
    "\n",
    "\n",
    "mu <- n * p\n",
    "sigma <- sqrt(n * p * (1 - p))\n",
    "\n",
    "\n",
    "prob_at_least_59_abroad <- 1 - pnorm(59, mean = mu, sd = sigma, lower.tail = FALSE)\n",
    "\n",
    " \n",
    " cat(\"Probability that at least 59 persons have traveled abroad in a sample of 100 (using normal approximation):\", prob_at_least_59_abroad, \"\\n\")\n"
   ]
  },
  {
   "cell_type": "code",
   "execution_count": 56,
   "metadata": {
    "vscode": {
     "languageId": "r"
    }
   },
   "outputs": [
    {
     "data": {
      "image/png": "[encoded data removed]",
      "text/plain": [
       "plot without title"
      ]
     },
     "metadata": {
      "image/png": {
       "height": 420,
       "width": 420
      }
     },
     "output_type": "display_data"
    },
    {
     "data": {
      "image/png": "[encoded data removed]",
      "text/plain": [
       "plot without title"
      ]
     },
     "metadata": {
      "image/png": {
       "height": 420,
       "width": 420
      }
     },
     "output_type": "display_data"
    }
   ],
   "source": [
    "\n",
    "library(ggplot2)\n",
    "\n",
    "\n",
    "probabilities <- data.frame(\n",
    "  Scenario = c(\"No one\", \"Exactly one\", \"Exactly two\", \"Exactly three\", \"Exactly four\", \n",
    "               \"Exactly five\", \"Exactly six\", \"Exactly seven\", \"Exactly eight\", \n",
    "               \"Exactly nine\", \"All ten\"),\n",
    "  Probability = c(prob_no_one_abroad, prob_one_abroad, prob_two_abroad, prob_three_abroad, \n",
    "                  prob_four_abroad, prob_five_abroad, prob_six_abroad, prob_seven_abroad, \n",
    "                  prob_eight_abroad, prob_nine_abroad, prob_all_ten_abroad)\n",
    ")\n",
    "\n",
    "\n",
    "table_plot <- ggplot(probabilities, aes(x = Scenario, y = Probability)) +\n",
    "  geom_col(fill = \"skyblue\", color = \"black\") +\n",
    "  labs(title = \"Probability of Number of Persons Who Have Traveled Abroad\",\n",
    "       x = \"Number of Persons\",\n",
    "       y = \"Probability\") +\n",
    "  theme_minimal() +\n",
    "  theme(axis.text.x = element_text(angle = 45, hjust = 1),\n",
    "        plot.title = element_text(hjust = 0.5))\n",
    "\n",
    "\n",
    "print(table_plot)\n",
    "\n",
    "bar_plot <- ggplot(probabilities, aes(x = Scenario, y = Probability)) +\n",
    "  geom_bar(stat = \"identity\", fill = \"skyblue\", color = \"black\") +\n",
    "  labs(title = \"Probability of Number of Persons Who Have Traveled Abroad\",\n",
    "       x = \"Number of Persons\",\n",
    "       y = \"Probability\") +\n",
    "  theme_minimal() +\n",
    "  theme(axis.text.x = element_text(angle = 45, hjust = 1),\n",
    "        plot.title = element_text(hjust = 0.5))\n",
    "\n",
    "print(bar_plot)\n",
    "\n"
   ]
  },
  {
   "cell_type": "code",
   "execution_count": 57,
   "metadata": {
    "vscode": {
     "languageId": "r"
    }
   },
   "outputs": [
    {
     "data": {
      "image/png": "[encoded data removed]",
      "text/plain": [
       "plot without title"
      ]
     },
     "metadata": {
      "image/png": {
       "height": 420,
       "width": 420
      }
     },
     "output_type": "display_data"
    }
   ],
   "source": [
    "# Create a data frame with probabilities and scenario numbers\n",
    "probabilities <- data.frame(\n",
    "  Scenario = 1:10,\n",
    "  Probability = c(prob_one_abroad, prob_two_abroad, prob_three_abroad, \n",
    "                  prob_four_abroad, prob_five_abroad, prob_six_abroad, prob_seven_abroad, \n",
    "                  prob_eight_abroad, prob_nine_abroad, prob_all_ten_abroad)\n",
    ")\n",
    "\n",
    "# Plot as a bar graph\n",
    "bar_plot <- ggplot  (probabilities, aes(x = Scenario, y = Probability)) +\n",
    "  geom_bar(stat = \"identity\", color = \"black\", fill = \"skyblue\") +\n",
    "  labs(title = \"Probability of Number of Persons Who Have Traveled Abroad\",\n",
    "       x = \"Number of Persons Who Have Traveled Abroad\",\n",
    "       y = \"Probability\") +\n",
    "  theme_minimal() +\n",
    "  theme(plot.title = element_text(hjust = 0.5))\n",
    "\n",
    "# Print the bar plot\n",
    "print(bar_plot)\n"
   ]
  },
  {
   "cell_type": "code",
   "execution_count": null,
   "metadata": {
    "vscode": {
     "languageId": "r"
    }
   },
   "outputs": [],
   "source": []
  },
  {
   "cell_type": "code",
   "execution_count": null,
   "metadata": {
    "vscode": {
     "languageId": "r"
    }
   },
   "outputs": [],
   "source": []
  },
  {
   "cell_type": "code",
   "execution_count": null,
   "metadata": {
    "vscode": {
     "languageId": "r"
    }
   },
   "outputs": [],
   "source": []
  }
 ],
 "metadata": {
  "kernelspec": {
   "display_name": "R",
   "language": "R",
   "name": "ir"
  },
  "language_info": {
   "codemirror_mode": "r",
   "file_extension": ".r",
   "mimetype": "text/x-r-source",
   "name": "R",
   "pygments_lexer": "r",
   "version": "4.0.4"
  }
 },
 "nbformat": 4,
 "nbformat_minor": 2
}
