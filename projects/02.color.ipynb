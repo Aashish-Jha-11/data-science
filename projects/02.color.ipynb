{
 "cells": [
  {
   "cell_type": "code",
   "execution_count": 1,
   "metadata": {
    "vscode": {
     "languageId": "r"
    }
   },
   "outputs": [
    {
     "data": {
      "text/html": [
       "<table class=\"dataframe\">\n",
       "<caption>A data.frame: 20 × 3</caption>\n",
       "<thead>\n",
       "\t<tr><th scope=col>Person.No.</th><th scope=col>Hair.Color</th><th scope=col>Eye.Color</th></tr>\n",
       "\t<tr><th scope=col>&lt;int&gt;</th><th scope=col>&lt;chr&gt;</th><th scope=col>&lt;chr&gt;</th></tr>\n",
       "</thead>\n",
       "<tbody>\n",
       "\t<tr><td> 1</td><td>Blonde</td><td>Blue </td></tr>\n",
       "\t<tr><td> 2</td><td>Blonde</td><td>Blue </td></tr>\n",
       "\t<tr><td> 3</td><td>Blonde</td><td>Green</td></tr>\n",
       "\t<tr><td> 4</td><td>Blonde</td><td>Brown</td></tr>\n",
       "\t<tr><td> 5</td><td>Blonde</td><td>Brown</td></tr>\n",
       "\t<tr><td> 6</td><td>Blonde</td><td>Black</td></tr>\n",
       "\t<tr><td> 7</td><td>Red   </td><td>Blue </td></tr>\n",
       "\t<tr><td> 8</td><td>Red   </td><td>Green</td></tr>\n",
       "\t<tr><td> 9</td><td>Red   </td><td>Brown</td></tr>\n",
       "\t<tr><td>10</td><td>Red   </td><td>Brown</td></tr>\n",
       "\t<tr><td>11</td><td>Brown </td><td>Blue </td></tr>\n",
       "\t<tr><td>12</td><td>Brown </td><td>Brown</td></tr>\n",
       "\t<tr><td>13</td><td>Brown </td><td>Brown</td></tr>\n",
       "\t<tr><td>14</td><td>Brown </td><td>Brown</td></tr>\n",
       "\t<tr><td>15</td><td>Brown </td><td>Brown</td></tr>\n",
       "\t<tr><td>16</td><td>Brown </td><td>Black</td></tr>\n",
       "\t<tr><td>17</td><td>Brown </td><td>Black</td></tr>\n",
       "\t<tr><td>18</td><td>Black </td><td>Blue </td></tr>\n",
       "\t<tr><td>19</td><td>Black </td><td>Brown</td></tr>\n",
       "\t<tr><td>20</td><td>Black </td><td>Brown</td></tr>\n",
       "</tbody>\n",
       "</table>\n"
      ],
      "text/latex": [
       "A data.frame: 20 × 3\n",
       "\\begin{tabular}{lll}\n",
       " Person.No. & Hair.Color & Eye.Color\\\\\n",
       " <int> & <chr> & <chr>\\\\\n",
       "\\hline\n",
       "\t  1 & Blonde & Blue \\\\\n",
       "\t  2 & Blonde & Blue \\\\\n",
       "\t  3 & Blonde & Green\\\\\n",
       "\t  4 & Blonde & Brown\\\\\n",
       "\t  5 & Blonde & Brown\\\\\n",
       "\t  6 & Blonde & Black\\\\\n",
       "\t  7 & Red    & Blue \\\\\n",
       "\t  8 & Red    & Green\\\\\n",
       "\t  9 & Red    & Brown\\\\\n",
       "\t 10 & Red    & Brown\\\\\n",
       "\t 11 & Brown  & Blue \\\\\n",
       "\t 12 & Brown  & Brown\\\\\n",
       "\t 13 & Brown  & Brown\\\\\n",
       "\t 14 & Brown  & Brown\\\\\n",
       "\t 15 & Brown  & Brown\\\\\n",
       "\t 16 & Brown  & Black\\\\\n",
       "\t 17 & Brown  & Black\\\\\n",
       "\t 18 & Black  & Blue \\\\\n",
       "\t 19 & Black  & Brown\\\\\n",
       "\t 20 & Black  & Brown\\\\\n",
       "\\end{tabular}\n"
      ],
      "text/markdown": [
       "\n",
       "A data.frame: 20 × 3\n",
       "\n",
       "| Person.No. &lt;int&gt; | Hair.Color &lt;chr&gt; | Eye.Color &lt;chr&gt; |\n",
       "|---|---|---|\n",
       "|  1 | Blonde | Blue  |\n",
       "|  2 | Blonde | Blue  |\n",
       "|  3 | Blonde | Green |\n",
       "|  4 | Blonde | Brown |\n",
       "|  5 | Blonde | Brown |\n",
       "|  6 | Blonde | Black |\n",
       "|  7 | Red    | Blue  |\n",
       "|  8 | Red    | Green |\n",
       "|  9 | Red    | Brown |\n",
       "| 10 | Red    | Brown |\n",
       "| 11 | Brown  | Blue  |\n",
       "| 12 | Brown  | Brown |\n",
       "| 13 | Brown  | Brown |\n",
       "| 14 | Brown  | Brown |\n",
       "| 15 | Brown  | Brown |\n",
       "| 16 | Brown  | Black |\n",
       "| 17 | Brown  | Black |\n",
       "| 18 | Black  | Blue  |\n",
       "| 19 | Black  | Brown |\n",
       "| 20 | Black  | Brown |\n",
       "\n"
      ],
      "text/plain": [
       "   Person.No. Hair.Color Eye.Color\n",
       "1   1         Blonde     Blue     \n",
       "2   2         Blonde     Blue     \n",
       "3   3         Blonde     Green    \n",
       "4   4         Blonde     Brown    \n",
       "5   5         Blonde     Brown    \n",
       "6   6         Blonde     Black    \n",
       "7   7         Red        Blue     \n",
       "8   8         Red        Green    \n",
       "9   9         Red        Brown    \n",
       "10 10         Red        Brown    \n",
       "11 11         Brown      Blue     \n",
       "12 12         Brown      Brown    \n",
       "13 13         Brown      Brown    \n",
       "14 14         Brown      Brown    \n",
       "15 15         Brown      Brown    \n",
       "16 16         Brown      Black    \n",
       "17 17         Brown      Black    \n",
       "18 18         Black      Blue     \n",
       "19 19         Black      Brown    \n",
       "20 20         Black      Brown    "
      ]
     },
     "metadata": {},
     "output_type": "display_data"
    }
   ],
   "source": [
    "h <- read.csv(\"../datasets/hair_eye_color_csv.csv\")\n",
    "h"
   ]
  },
  {
   "cell_type": "markdown",
   "metadata": {},
   "source": [
    "    2. Write a single R code to display the answers the following questions\n",
    "\n",
    "Case Study: Hair Eye color Data set\n",
    "\n",
    "    1. How many people have brown eye color?\n",
    "    2. How many people have Blonde hair?\n",
    "    3. How many Brown haired people have Black eyes?\n",
    "    4. What is the percentage of people with Green eyes?\n",
    "    5. What percentage of people have red hair and Blue eyes?"
   ]
  },
  {
   "cell_type": "code",
   "execution_count": 19,
   "metadata": {
    "vscode": {
     "languageId": "r"
    }
   },
   "outputs": [
    {
     "name": "stdout",
     "output_type": "stream",
     "text": [
      "\n",
      "Number of people have brown eye color:  10\n",
      "Number of people have Blonde hair:  6\n",
      "Number of Brown haired people have Black eyes;  2\n",
      "Percentage of people with Green eyes:  10\n",
      "percentage of people have red hair and Blue eyes:  5"
     ]
    }
   ],
   "source": [
    "\n",
    "#1\n",
    "\n",
    "brown_eye_count <- sum(h$Eye.Color == \"Brown\")\n",
    "cat(\"\\nNumber of people have brown eye color: \", brown_eye_count)\n",
    "\n",
    "#2\n",
    "\n",
    "blll <- sum(h$Hair.Color == \"Blonde\")\n",
    "#blll\n",
    "cat(\"\\nNumber of people have Blonde hair: \", blll)\n",
    "\n",
    "#3\n",
    "\n",
    "\n",
    "grrr <- sum(h$Eye.Color == \"Green\")\n",
    "#grrr\n",
    "#length(h$Person.No.)\n",
    "pp <- grrr * 100 / length(h$Person.No.)\n",
    "cat(\"\\nNumber of Brown haired people have Black eyes; \", grrr)\n",
    "\n",
    "\n",
    "#4\n",
    "pp <- grrr * 100 / length(h$Person.No.)\n",
    "cat(\"\\nPercentage of people with Green eyes: \", pp)\n",
    "\n",
    "#5\n",
    "rr <- sum(h$Hair.Color == \"Red\" & h$Eye.Color == \"Blue\")\n",
    "#rr\n",
    "\n",
    "#length(h$Person.No.)\n",
    "aa <- rr * 100 / length(h$Person.No.)\n",
    "cat(\"\\npercentage of people have red hair and Blue eyes: \",aa )"
   ]
  },
  {
   "cell_type": "code",
   "execution_count": 3,
   "metadata": {
    "vscode": {
     "languageId": "r"
    }
   },
   "outputs": [
    {
     "data": {
      "text/html": [
       "6"
      ],
      "text/latex": [
       "6"
      ],
      "text/markdown": [
       "6"
      ],
      "text/plain": [
       "[1] 6"
      ]
     },
     "metadata": {},
     "output_type": "display_data"
    }
   ],
   "source": [
    "blll <- sum(h$Hair.Color == \"Blonde\")\n",
    "blll\n",
    "cat(\"\\nNumber of people have Blonde hair\", blll)"
   ]
  },
  {
   "cell_type": "code",
   "execution_count": 13,
   "metadata": {
    "vscode": {
     "languageId": "r"
    }
   },
   "outputs": [
    {
     "name": "stdout",
     "output_type": "stream",
     "text": [
      "Number of Brown haired people have Black eyes 2"
     ]
    }
   ],
   "source": [
    "grrr <- sum(h$Eye.Color == \"Green\")\n",
    "#grrr\n",
    "#length(h$Person.No.)\n",
    "pp <- grrr * 100 / length(h$Person.No.)\n",
    "cat(\"\\nNumber of Brown haired people have Black eyes\", grrr)"
   ]
  },
  {
   "cell_type": "code",
   "execution_count": 12,
   "metadata": {
    "vscode": {
     "languageId": "r"
    }
   },
   "outputs": [
    {
     "name": "stdout",
     "output_type": "stream",
     "text": [
      "Percentage of people with Green eyes 10"
     ]
    }
   ],
   "source": [
    "pp <- grrr * 100 / length(h$Person.No.)\n",
    "cat(\"\\nPercentage of people with Green eyes\", pp)"
   ]
  },
  {
   "cell_type": "code",
   "execution_count": 16,
   "metadata": {
    "vscode": {
     "languageId": "r"
    }
   },
   "outputs": [
    {
     "name": "stdout",
     "output_type": "stream",
     "text": [
      "\n",
      "percentage of people have red hair and Blue eyes:  5"
     ]
    }
   ],
   "source": [
    "rr <- sum(h$Hair.Color == \"Red\" & h$Eye.Color == \"Blue\")\n",
    "#rr\n",
    "\n",
    "#length(h$Person.No.)\n",
    "aa <- rr * 100 / length(h$Person.No.)\n",
    "cat(\"\\npercentage of people have red hair and Blue eyes: \",aa )"
   ]
  },
  {
   "cell_type": "code",
   "execution_count": null,
   "metadata": {
    "vscode": {
     "languageId": "r"
    }
   },
   "outputs": [],
   "source": []
  }
 ],
 "metadata": {
  "kernelspec": {
   "display_name": "R",
   "language": "R",
   "name": "ir"
  },
  "language_info": {
   "codemirror_mode": "r",
   "file_extension": ".r",
   "mimetype": "text/x-r-source",
   "name": "R",
   "pygments_lexer": "r",
   "version": "4.0.4"
  }
 },
 "nbformat": 4,
 "nbformat_minor": 2
}
