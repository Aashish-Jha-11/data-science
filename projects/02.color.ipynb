{
 "cells": [
  {
   "cell_type": "code",
   "execution_count": 14,
   "metadata": {
    "vscode": {
     "languageId": "r"
    }
   },
   "outputs": [],
   "source": [
    "h <- read.csv(\"../datasets/hair_eye_color_csv.csv\")\n"
   ]
  },
  {
   "cell_type": "markdown",
   "metadata": {},
   "source": [
    "    2. Write a single R code to display the answers the following questions\n",
    "\n",
    "Case Study: Hair Eye color Data set\n",
    "\n",
    "    1. How many people have brown eye color?\n",
    "    2. How many people have Blonde hair?\n",
    "    3. How many Brown haired people have Black eyes?\n",
    "    4. What is the percentage of people with Green eyes?\n",
    "    5. What percentage of people have red hair and Blue eyes?"
   ]
  },
  {
   "cell_type": "code",
   "execution_count": 15,
   "metadata": {
    "vscode": {
     "languageId": "r"
    }
   },
   "outputs": [
    {
     "name": "stdout",
     "output_type": "stream",
     "text": [
      "\n",
      "Number of people have brown eye color:  10\n",
      "Number of people have Blonde hair:  6\n",
      "Number of Brown haired people have Black eyes;  2\n",
      "Percentage of people with Green eyes:  10\n",
      "percentage of people have red hair and Blue eyes:  5"
     ]
    }
   ],
   "source": [
    "\n",
    "#1\n",
    "\n",
    "brown_eye_count <- sum(h$Eye.Color == \"Brown\")\n",
    "cat(\"\\nNumber of people have brown eye color: \", brown_eye_count)\n",
    "\n",
    "#2\n",
    "\n",
    "blll <- sum(h$Hair.Color == \"Blonde\")\n",
    "#blll\n",
    "cat(\"\\nNumber of people have Blonde hair: \", blll)\n",
    "\n",
    "#3\n",
    "\n",
    "\n",
    "grrr <- sum(h$Eye.Color == \"Green\")\n",
    "#grrr\n",
    "#length(h$Person.No.)\n",
    "pp <- grrr * 100 / length(h$Person.No.)\n",
    "cat(\"\\nNumber of Brown haired people have Black eyes; \", grrr)\n",
    "\n",
    "\n",
    "#4\n",
    "pp <- grrr * 100 / length(h$Person.No.)\n",
    "cat(\"\\nPercentage of people with Green eyes: \", pp)\n",
    "\n",
    "#5\n",
    "rr <- sum(h$Hair.Color == \"Red\" & h$Eye.Color == \"Blue\")\n",
    "#rr\n",
    "\n",
    "#length(h$Person.No.)\n",
    "aa <- rr * 100 / length(h$Person.No.)\n",
    "cat(\"\\npercentage of people have red hair and Blue eyes: \",aa )"
   ]
  },
  {
   "cell_type": "code",
   "execution_count": 16,
   "metadata": {
    "vscode": {
     "languageId": "r"
    }
   },
   "outputs": [
    {
     "data": {
      "text/html": [
       "6"
      ],
      "text/latex": [
       "6"
      ],
      "text/markdown": [
       "6"
      ],
      "text/plain": [
       "[1] 6"
      ]
     },
     "metadata": {},
     "output_type": "display_data"
    },
    {
     "name": "stdout",
     "output_type": "stream",
     "text": [
      "\n",
      "Number of people have Blonde hair 6"
     ]
    }
   ],
   "source": [
    "blll <- sum(h$Hair.Color == \"Blonde\")\n",
    "blll\n",
    "cat(\"\\nNumber of people have Blonde hair\", blll)"
   ]
  },
  {
   "cell_type": "code",
   "execution_count": 17,
   "metadata": {
    "vscode": {
     "languageId": "r"
    }
   },
   "outputs": [
    {
     "name": "stdout",
     "output_type": "stream",
     "text": [
      "\n",
      "Number of Brown haired people have Black eyes 2"
     ]
    }
   ],
   "source": [
    "grrr <- sum(h$Eye.Color == \"Green\")\n",
    "#grrr\n",
    "#length(h$Person.No.)\n",
    "pp <- grrr * 100 / length(h$Person.No.)\n",
    "cat(\"\\nNumber of Brown haired people have Black eyes\", grrr)"
   ]
  },
  {
   "cell_type": "code",
   "execution_count": 18,
   "metadata": {
    "vscode": {
     "languageId": "r"
    }
   },
   "outputs": [
    {
     "name": "stdout",
     "output_type": "stream",
     "text": [
      "\n",
      "Percentage of people with Green eyes 10"
     ]
    }
   ],
   "source": [
    "pp <- grrr * 100 / length(h$Person.No.)\n",
    "cat(\"\\nPercentage of people with Green eyes\", pp)"
   ]
  },
  {
   "cell_type": "code",
   "execution_count": 19,
   "metadata": {
    "vscode": {
     "languageId": "r"
    }
   },
   "outputs": [
    {
     "name": "stdout",
     "output_type": "stream",
     "text": [
      "\n",
      "percentage of people have red hair and Blue eyes:  5"
     ]
    }
   ],
   "source": [
    "rr <- sum(h$Hair.Color == \"Red\" & h$Eye.Color == \"Blue\")\n",
    "#rr\n",
    "\n",
    "#length(h$Person.No.)\n",
    "aa <- rr * 100 / length(h$Person.No.)\n",
    "cat(\"\\npercentage of people have red hair and Blue eyes: \",aa )"
   ]
  },
  {
   "cell_type": "code",
   "execution_count": null,
   "metadata": {
    "vscode": {
     "languageId": "r"
    }
   },
   "outputs": [],
   "source": []
  }
 ],
 "metadata": {
  "kernelspec": {
   "display_name": "R",
   "language": "R",
   "name": "ir"
  },
  "language_info": {
   "codemirror_mode": "r",
   "file_extension": ".r",
   "mimetype": "text/x-r-source",
   "name": "R",
   "pygments_lexer": "r",
   "version": "4.0.4"
  }
 },
 "nbformat": 4,
 "nbformat_minor": 2
}
