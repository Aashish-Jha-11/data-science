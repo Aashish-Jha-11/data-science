{
 "cells": [
  {
   "cell_type": "markdown",
   "metadata": {},
   "source": [
    "# Pollutant Dataset"
   ]
  },
  {
   "cell_type": "code",
   "execution_count": 2,
   "metadata": {
    "vscode": {
     "languageId": "r"
    }
   },
   "outputs": [],
   "source": [
    "f <- read.csv(\"../datasets/pollutant_csv.csv\")\n"
   ]
  },
  {
   "cell_type": "code",
   "execution_count": 27,
   "metadata": {
    "vscode": {
     "languageId": "r"
    }
   },
   "outputs": [
    {
     "name": "stdout",
     "output_type": "stream",
     "text": [
      "1. Mean of temp when month is 6:  79.1\n",
      "2. Mean of temp when month is 6:  153\n",
      "3. Last two rows of the data: "
     ]
    },
    {
     "data": {
      "text/html": [
       "<table class=\"dataframe\">\n",
       "<caption>A data.frame: 2 × 6</caption>\n",
       "<thead>\n",
       "\t<tr><th></th><th scope=col>Ozone</th><th scope=col>Solar.R</th><th scope=col>Wind</th><th scope=col>Temp</th><th scope=col>Month</th><th scope=col>Day</th></tr>\n",
       "\t<tr><th></th><th scope=col>&lt;int&gt;</th><th scope=col>&lt;int&gt;</th><th scope=col>&lt;dbl&gt;</th><th scope=col>&lt;int&gt;</th><th scope=col>&lt;int&gt;</th><th scope=col>&lt;int&gt;</th></tr>\n",
       "</thead>\n",
       "<tbody>\n",
       "\t<tr><th scope=row>152</th><td>18</td><td>131</td><td> 8.0</td><td>76</td><td>9</td><td>29</td></tr>\n",
       "\t<tr><th scope=row>153</th><td>20</td><td>223</td><td>11.5</td><td>68</td><td>9</td><td>30</td></tr>\n",
       "</tbody>\n",
       "</table>\n"
      ],
      "text/latex": [
       "A data.frame: 2 × 6\n",
       "\\begin{tabular}{r|llllll}\n",
       "  & Ozone & Solar.R & Wind & Temp & Month & Day\\\\\n",
       "  & <int> & <int> & <dbl> & <int> & <int> & <int>\\\\\n",
       "\\hline\n",
       "\t152 & 18 & 131 &  8.0 & 76 & 9 & 29\\\\\n",
       "\t153 & 20 & 223 & 11.5 & 68 & 9 & 30\\\\\n",
       "\\end{tabular}\n"
      ],
      "text/markdown": [
       "\n",
       "A data.frame: 2 × 6\n",
       "\n",
       "| <!--/--> | Ozone &lt;int&gt; | Solar.R &lt;int&gt; | Wind &lt;dbl&gt; | Temp &lt;int&gt; | Month &lt;int&gt; | Day &lt;int&gt; |\n",
       "|---|---|---|---|---|---|---|\n",
       "| 152 | 18 | 131 |  8.0 | 76 | 9 | 29 |\n",
       "| 153 | 20 | 223 | 11.5 | 68 | 9 | 30 |\n",
       "\n"
      ],
      "text/plain": [
       "    Ozone Solar.R Wind Temp Month Day\n",
       "152 18    131      8.0 76   9     29 \n",
       "153 20    223     11.5 68   9     30 "
      ]
     },
     "metadata": {},
     "output_type": "display_data"
    },
    {
     "name": "stdout",
     "output_type": "stream",
     "text": [
      "\n",
      "4. Value of Ozone in 47th row:  21\n",
      "5. Number of Values are missing in Ozone column  37\n",
      "6. Mean of Ozone column excluding missing values:  42.12931\n",
      "7. mean of Solar.R in ubset of rows of the data frame where Ozone values are above 31 and Temp values are above 90:  212.8"
     ]
    },
    {
     "name": "stdout",
     "output_type": "stream",
     "text": [
      "\n",
      "8. Mmaximum ozone value in the month of May:  115"
     ]
    }
   ],
   "source": [
    "m <- mean(f[which(f$Month == 6), c(4)])\n",
    "cat(\"1. Mean of temp when month is 6: \", m)\n",
    "\n",
    "n <- nrow(f)\n",
    "cat(\"\\n2. Mean of temp when month is 6: \", n)\n",
    "\n",
    "o <- tail(f,n = 2)\n",
    "cat(\"\\n3. Last two rows of the data: \")\n",
    "o\n",
    "\n",
    "p <- f$Ozone[47]\n",
    "cat(\"\\n4. Value of Ozone in 47th row: \", p)\n",
    "\n",
    "q <- sum(is.na(f$Ozone) == TRUE)\n",
    "cat(\"\\n5. Number of Values are missing in Ozone column \", q)\n",
    "\n",
    "\n",
    "r <- mean(f$Ozone, na.rm = TRUE)\n",
    "cat(\"\\n6. Mean of Ozone column excluding missing values: \", r)\n",
    "\n",
    "sub <- f[which(f$Ozone > 31 & f$Temp > 90),]\n",
    "s <- mean(sub$Solar.R)\n",
    "cat(\"\\n7. mean of Solar.R in ubset of rows of the data frame where Ozone values are above 31 and Temp values are above 90: \", s)\n",
    "\n",
    "oz <- f[which(f$Month == 5),  ]\n",
    "t <- max(oz$Ozone,na.rm = TRUE)\n",
    "cat(\"\\n8. Mmaximum ozone value in the month of May: \", t)\n",
    "\n"
   ]
  },
  {
   "cell_type": "code",
   "execution_count": 28,
   "metadata": {
    "vscode": {
     "languageId": "r"
    }
   },
   "outputs": [],
   "source": [
    "# Do other 2 dataset till next Lab"
   ]
  },
  {
   "cell_type": "code",
   "execution_count": 29,
   "metadata": {
    "vscode": {
     "languageId": "r"
    }
   },
   "outputs": [],
   "source": [
    "library('dslabs')"
   ]
  },
  {
   "cell_type": "code",
   "execution_count": null,
   "metadata": {
    "vscode": {
     "languageId": "r"
    }
   },
   "outputs": [],
   "source": []
  }
 ],
 "metadata": {
  "kernelspec": {
   "display_name": "R",
   "language": "R",
   "name": "ir"
  },
  "language_info": {
   "codemirror_mode": "r",
   "file_extension": ".r",
   "mimetype": "text/x-r-source",
   "name": "R",
   "pygments_lexer": "r",
   "version": "4.0.4"
  }
 },
 "nbformat": 4,
 "nbformat_minor": 2
}
