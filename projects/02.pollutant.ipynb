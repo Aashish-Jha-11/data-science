{
 "cells": [
  {
   "cell_type": "markdown",
   "metadata": {},
   "source": [
    "# Pollutant Dataset"
   ]
  },
  {
   "cell_type": "code",
   "execution_count": 13,
   "metadata": {
    "vscode": {
     "languageId": "r"
    }
   },
   "outputs": [],
   "source": [
    "f <- read.csv(\"../datasets/pollutant_csv.csv\")\n"
   ]
  },
  {
   "cell_type": "code",
   "execution_count": 14,
   "metadata": {
    "vscode": {
     "languageId": "r"
    }
   },
   "outputs": [
    {
     "name": "stdout",
     "output_type": "stream",
     "text": [
      "1. Mean of temp when month is 6:  79.1\n",
      "2. Mean of temp when month is 6:  153\n",
      "3. Last two rows of the data: "
     ]
    },
    {
     "data": {
      "text/html": [
       "<table class=\"dataframe\">\n",
       "<caption>A data.frame: 2 × 6</caption>\n",
       "<thead>\n",
       "\t<tr><th></th><th scope=col>Ozone</th><th scope=col>Solar.R</th><th scope=col>Wind</th><th scope=col>Temp</th><th scope=col>Month</th><th scope=col>Day</th></tr>\n",
       "\t<tr><th></th><th scope=col>&lt;int&gt;</th><th scope=col>&lt;int&gt;</th><th scope=col>&lt;dbl&gt;</th><th scope=col>&lt;int&gt;</th><th scope=col>&lt;int&gt;</th><th scope=col>&lt;int&gt;</th></tr>\n",
       "</thead>\n",
       "<tbody>\n",
       "\t<tr><th scope=row>152</th><td>18</td><td>131</td><td> 8.0</td><td>76</td><td>9</td><td>29</td></tr>\n",
       "\t<tr><th scope=row>153</th><td>20</td><td>223</td><td>11.5</td><td>68</td><td>9</td><td>30</td></tr>\n",
       "</tbody>\n",
       "</table>\n"
      ],
      "text/latex": [
       "A data.frame: 2 × 6\n",
       "\\begin{tabular}{r|llllll}\n",
       "  & Ozone & Solar.R & Wind & Temp & Month & Day\\\\\n",
       "  & <int> & <int> & <dbl> & <int> & <int> & <int>\\\\\n",
       "\\hline\n",
       "\t152 & 18 & 131 &  8.0 & 76 & 9 & 29\\\\\n",
       "\t153 & 20 & 223 & 11.5 & 68 & 9 & 30\\\\\n",
       "\\end{tabular}\n"
      ],
      "text/markdown": [
       "\n",
       "A data.frame: 2 × 6\n",
       "\n",
       "| <!--/--> | Ozone &lt;int&gt; | Solar.R &lt;int&gt; | Wind &lt;dbl&gt; | Temp &lt;int&gt; | Month &lt;int&gt; | Day &lt;int&gt; |\n",
       "|---|---|---|---|---|---|---|\n",
       "| 152 | 18 | 131 |  8.0 | 76 | 9 | 29 |\n",
       "| 153 | 20 | 223 | 11.5 | 68 | 9 | 30 |\n",
       "\n"
      ],
      "text/plain": [
       "    Ozone Solar.R Wind Temp Month Day\n",
       "152 18    131      8.0 76   9     29 \n",
       "153 20    223     11.5 68   9     30 "
      ]
     },
     "metadata": {},
     "output_type": "display_data"
    },
    {
     "name": "stdout",
     "output_type": "stream",
     "text": [
      "\n",
      "4. Value of Ozone in 47th row:  21\n",
      "5. Number of Values are missing in Ozone column  37\n",
      "6. Mean of Ozone column excluding missing values:  42.12931\n",
      "7. mean of Solar.R in ubset of rows of the data frame where Ozone values are above 31 and Temp values are above 90:  212.8\n",
      "8. Mmaximum ozone value in the month of May:  115"
     ]
    }
   ],
   "source": [
    "m <- mean(f[which(f$Month == 6), c(4)])\n",
    "cat(\"1. Mean of temp when month is 6: \", m)\n",
    "\n",
    "n <- nrow(f)\n",
    "cat(\"\\n2. Mean of temp when month is 6: \", n)\n",
    "\n",
    "o <- tail(f,n = 2)\n",
    "cat(\"\\n3. Last two rows of the data: \")\n",
    "o\n",
    "\n",
    "p <- f$Ozone[47]\n",
    "cat(\"\\n4. Value of Ozone in 47th row: \", p)\n",
    "\n",
    "q <- sum(is.na(f$Ozone) == TRUE)\n",
    "cat(\"\\n5. Number of Values are missing in Ozone column \", q)\n",
    "\n",
    "\n",
    "r <- mean(f$Ozone, na.rm = TRUE)\n",
    "cat(\"\\n6. Mean of Ozone column excluding missing values: \", r)\n",
    "\n",
    "sub <- f[which(f$Ozone > 31 & f$Temp > 90),]\n",
    "s <- mean(sub$Solar.R)\n",
    "cat(\"\\n7. mean of Solar.R in ubset of rows of the data frame where Ozone values are above 31 and Temp values are above 90: \", s)\n",
    "\n",
    "oz <- f[which(f$Month == 5),  ]\n",
    "t <- max(oz$Ozone,na.rm = TRUE)\n",
    "cat(\"\\n8. Mmaximum ozone value in the month of May: \", t)\n",
    "\n"
   ]
  },
  {
   "cell_type": "code",
   "execution_count": 15,
   "metadata": {
    "vscode": {
     "languageId": "r"
    }
   },
   "outputs": [],
   "source": [
    "# Do other 2 dataset till next Lab"
   ]
  },
  {
   "cell_type": "code",
   "execution_count": 16,
   "metadata": {
    "vscode": {
     "languageId": "r"
    }
   },
   "outputs": [],
   "source": [
    "#library('dslabs')"
   ]
  },
  {
   "cell_type": "code",
   "execution_count": 17,
   "metadata": {
    "vscode": {
     "languageId": "r"
    }
   },
   "outputs": [
    {
     "data": {
      "text/html": [
       "<table class=\"dataframe\">\n",
       "<caption>A data.frame: 20 × 3</caption>\n",
       "<thead>\n",
       "\t<tr><th scope=col>Person.No.</th><th scope=col>Hair.Color</th><th scope=col>Eye.Color</th></tr>\n",
       "\t<tr><th scope=col>&lt;int&gt;</th><th scope=col>&lt;chr&gt;</th><th scope=col>&lt;chr&gt;</th></tr>\n",
       "</thead>\n",
       "<tbody>\n",
       "\t<tr><td> 1</td><td>Blonde</td><td>Blue </td></tr>\n",
       "\t<tr><td> 2</td><td>Blonde</td><td>Blue </td></tr>\n",
       "\t<tr><td> 3</td><td>Blonde</td><td>Green</td></tr>\n",
       "\t<tr><td> 4</td><td>Blonde</td><td>Brown</td></tr>\n",
       "\t<tr><td> 5</td><td>Blonde</td><td>Brown</td></tr>\n",
       "\t<tr><td> 6</td><td>Blonde</td><td>Black</td></tr>\n",
       "\t<tr><td> 7</td><td>Red   </td><td>Blue </td></tr>\n",
       "\t<tr><td> 8</td><td>Red   </td><td>Green</td></tr>\n",
       "\t<tr><td> 9</td><td>Red   </td><td>Brown</td></tr>\n",
       "\t<tr><td>10</td><td>Red   </td><td>Brown</td></tr>\n",
       "\t<tr><td>11</td><td>Brown </td><td>Blue </td></tr>\n",
       "\t<tr><td>12</td><td>Brown </td><td>Brown</td></tr>\n",
       "\t<tr><td>13</td><td>Brown </td><td>Brown</td></tr>\n",
       "\t<tr><td>14</td><td>Brown </td><td>Brown</td></tr>\n",
       "\t<tr><td>15</td><td>Brown </td><td>Brown</td></tr>\n",
       "\t<tr><td>16</td><td>Brown </td><td>Black</td></tr>\n",
       "\t<tr><td>17</td><td>Brown </td><td>Black</td></tr>\n",
       "\t<tr><td>18</td><td>Black </td><td>Blue </td></tr>\n",
       "\t<tr><td>19</td><td>Black </td><td>Brown</td></tr>\n",
       "\t<tr><td>20</td><td>Black </td><td>Brown</td></tr>\n",
       "</tbody>\n",
       "</table>\n"
      ],
      "text/latex": [
       "A data.frame: 20 × 3\n",
       "\\begin{tabular}{lll}\n",
       " Person.No. & Hair.Color & Eye.Color\\\\\n",
       " <int> & <chr> & <chr>\\\\\n",
       "\\hline\n",
       "\t  1 & Blonde & Blue \\\\\n",
       "\t  2 & Blonde & Blue \\\\\n",
       "\t  3 & Blonde & Green\\\\\n",
       "\t  4 & Blonde & Brown\\\\\n",
       "\t  5 & Blonde & Brown\\\\\n",
       "\t  6 & Blonde & Black\\\\\n",
       "\t  7 & Red    & Blue \\\\\n",
       "\t  8 & Red    & Green\\\\\n",
       "\t  9 & Red    & Brown\\\\\n",
       "\t 10 & Red    & Brown\\\\\n",
       "\t 11 & Brown  & Blue \\\\\n",
       "\t 12 & Brown  & Brown\\\\\n",
       "\t 13 & Brown  & Brown\\\\\n",
       "\t 14 & Brown  & Brown\\\\\n",
       "\t 15 & Brown  & Brown\\\\\n",
       "\t 16 & Brown  & Black\\\\\n",
       "\t 17 & Brown  & Black\\\\\n",
       "\t 18 & Black  & Blue \\\\\n",
       "\t 19 & Black  & Brown\\\\\n",
       "\t 20 & Black  & Brown\\\\\n",
       "\\end{tabular}\n"
      ],
      "text/markdown": [
       "\n",
       "A data.frame: 20 × 3\n",
       "\n",
       "| Person.No. &lt;int&gt; | Hair.Color &lt;chr&gt; | Eye.Color &lt;chr&gt; |\n",
       "|---|---|---|\n",
       "|  1 | Blonde | Blue  |\n",
       "|  2 | Blonde | Blue  |\n",
       "|  3 | Blonde | Green |\n",
       "|  4 | Blonde | Brown |\n",
       "|  5 | Blonde | Brown |\n",
       "|  6 | Blonde | Black |\n",
       "|  7 | Red    | Blue  |\n",
       "|  8 | Red    | Green |\n",
       "|  9 | Red    | Brown |\n",
       "| 10 | Red    | Brown |\n",
       "| 11 | Brown  | Blue  |\n",
       "| 12 | Brown  | Brown |\n",
       "| 13 | Brown  | Brown |\n",
       "| 14 | Brown  | Brown |\n",
       "| 15 | Brown  | Brown |\n",
       "| 16 | Brown  | Black |\n",
       "| 17 | Brown  | Black |\n",
       "| 18 | Black  | Blue  |\n",
       "| 19 | Black  | Brown |\n",
       "| 20 | Black  | Brown |\n",
       "\n"
      ],
      "text/plain": [
       "   Person.No. Hair.Color Eye.Color\n",
       "1   1         Blonde     Blue     \n",
       "2   2         Blonde     Blue     \n",
       "3   3         Blonde     Green    \n",
       "4   4         Blonde     Brown    \n",
       "5   5         Blonde     Brown    \n",
       "6   6         Blonde     Black    \n",
       "7   7         Red        Blue     \n",
       "8   8         Red        Green    \n",
       "9   9         Red        Brown    \n",
       "10 10         Red        Brown    \n",
       "11 11         Brown      Blue     \n",
       "12 12         Brown      Brown    \n",
       "13 13         Brown      Brown    \n",
       "14 14         Brown      Brown    \n",
       "15 15         Brown      Brown    \n",
       "16 16         Brown      Black    \n",
       "17 17         Brown      Black    \n",
       "18 18         Black      Blue     \n",
       "19 19         Black      Brown    \n",
       "20 20         Black      Brown    "
      ]
     },
     "metadata": {},
     "output_type": "display_data"
    }
   ],
   "source": [
    "h <- read.csv(\"../datasets/hair_eye_color_csv.csv\")\n",
    "h"
   ]
  },
  {
   "cell_type": "markdown",
   "metadata": {},
   "source": [
    "    2. Write a single R code to display the answers the following questions\n",
    "\n",
    "Case Study: Hair Eye color Data set\n",
    "\n",
    "    1. How many people have brown eye color?\n",
    "    2. How many people have Blonde hair?\n",
    "    3. How many Brown haired people have Black eyes?\n",
    "    4. What is the percentage of people with Green eyes?\n",
    "    5. What percentage of people have red hair and Blue eyes?"
   ]
  },
  {
   "cell_type": "code",
   "execution_count": 18,
   "metadata": {
    "vscode": {
     "languageId": "r"
    }
   },
   "outputs": [
    {
     "data": {
      "text/html": [
       "10"
      ],
      "text/latex": [
       "10"
      ],
      "text/markdown": [
       "10"
      ],
      "text/plain": [
       "[1] 10"
      ]
     },
     "metadata": {},
     "output_type": "display_data"
    }
   ],
   "source": [
    "\n",
    "brown_eye_count <- sum(h$Eye.Color == \"Brown\")\n",
    "brown_eye_count"
   ]
  },
  {
   "cell_type": "code",
   "execution_count": 19,
   "metadata": {
    "vscode": {
     "languageId": "r"
    }
   },
   "outputs": [
    {
     "data": {
      "text/html": [
       "6"
      ],
      "text/latex": [
       "6"
      ],
      "text/markdown": [
       "6"
      ],
      "text/plain": [
       "[1] 6"
      ]
     },
     "metadata": {},
     "output_type": "display_data"
    }
   ],
   "source": [
    "blll <- sum(h$Hair.Color == \"Blonde\")\n",
    "blll"
   ]
  },
  {
   "cell_type": "code",
   "execution_count": 20,
   "metadata": {
    "vscode": {
     "languageId": "r"
    }
   },
   "outputs": [
    {
     "data": {
      "text/html": [
       "2"
      ],
      "text/latex": [
       "2"
      ],
      "text/markdown": [
       "2"
      ],
      "text/plain": [
       "[1] 2"
      ]
     },
     "metadata": {},
     "output_type": "display_data"
    }
   ],
   "source": [
    "bb <- sum(h$Hair.Color == \"Brown\" & h$Eye.Color == \"Black\")\n",
    "bb"
   ]
  },
  {
   "cell_type": "code",
   "execution_count": 21,
   "metadata": {
    "vscode": {
     "languageId": "r"
    }
   },
   "outputs": [
    {
     "data": {
      "text/html": [
       "2"
      ],
      "text/latex": [
       "2"
      ],
      "text/markdown": [
       "2"
      ],
      "text/plain": [
       "[1] 2"
      ]
     },
     "metadata": {},
     "output_type": "display_data"
    },
    {
     "data": {
      "text/html": [
       "20"
      ],
      "text/latex": [
       "20"
      ],
      "text/markdown": [
       "20"
      ],
      "text/plain": [
       "[1] 20"
      ]
     },
     "metadata": {},
     "output_type": "display_data"
    },
    {
     "data": {
      "text/html": [
       "10"
      ],
      "text/latex": [
       "10"
      ],
      "text/markdown": [
       "10"
      ],
      "text/plain": [
       "[1] 10"
      ]
     },
     "metadata": {},
     "output_type": "display_data"
    }
   ],
   "source": [
    "grrr <- sum(h$Eye.Color == \"Green\")\n",
    "grrr\n",
    "length(h$Person.No.)\n",
    "grrr * 100 / length(h$Person.No.)"
   ]
  },
  {
   "cell_type": "code",
   "execution_count": 22,
   "metadata": {
    "vscode": {
     "languageId": "r"
    }
   },
   "outputs": [
    {
     "data": {
      "text/html": [
       "1"
      ],
      "text/latex": [
       "1"
      ],
      "text/markdown": [
       "1"
      ],
      "text/plain": [
       "[1] 1"
      ]
     },
     "metadata": {},
     "output_type": "display_data"
    },
    {
     "data": {
      "text/html": [
       "20"
      ],
      "text/latex": [
       "20"
      ],
      "text/markdown": [
       "20"
      ],
      "text/plain": [
       "[1] 20"
      ]
     },
     "metadata": {},
     "output_type": "display_data"
    },
    {
     "data": {
      "text/html": [
       "5"
      ],
      "text/latex": [
       "5"
      ],
      "text/markdown": [
       "5"
      ],
      "text/plain": [
       "[1] 5"
      ]
     },
     "metadata": {},
     "output_type": "display_data"
    }
   ],
   "source": [
    "rr <- sum(h$Hair.Color == \"Red\" & h$Eye.Color == \"Blue\")\n",
    "rr\n",
    "\n",
    "length(h$Person.No.)\n",
    "rr * 100 / length(h$Person.No.)"
   ]
  },
  {
   "cell_type": "markdown",
   "metadata": {},
   "source": [
    "    1. What is the average number of seeds germinated for the uncovered boxes with level of watering equal to 4?\n",
    "    2. What is the median value of the germinated seeds for the data covered boxes?"
   ]
  },
  {
   "cell_type": "code",
   "execution_count": 23,
   "metadata": {
    "vscode": {
     "languageId": "r"
    }
   },
   "outputs": [
    {
     "data": {
      "text/html": [
       "<table class=\"dataframe\">\n",
       "<caption>A data.frame: 48 × 3</caption>\n",
       "<thead>\n",
       "\t<tr><th scope=col>Box</th><th scope=col>water_amt</th><th scope=col>germinated</th></tr>\n",
       "\t<tr><th scope=col>&lt;chr&gt;</th><th scope=col>&lt;int&gt;</th><th scope=col>&lt;int&gt;</th></tr>\n",
       "</thead>\n",
       "<tbody>\n",
       "\t<tr><td>Uncovered</td><td>1</td><td>22</td></tr>\n",
       "\t<tr><td>Uncovered</td><td>1</td><td>25</td></tr>\n",
       "\t<tr><td>Uncovered</td><td>1</td><td>27</td></tr>\n",
       "\t<tr><td>Uncovered</td><td>1</td><td>23</td></tr>\n",
       "\t<tr><td>Uncovered</td><td>2</td><td>41</td></tr>\n",
       "\t<tr><td>Uncovered</td><td>2</td><td>46</td></tr>\n",
       "\t<tr><td>Uncovered</td><td>2</td><td>59</td></tr>\n",
       "\t<tr><td>Uncovered</td><td>2</td><td>38</td></tr>\n",
       "\t<tr><td>Uncovered</td><td>3</td><td>66</td></tr>\n",
       "\t<tr><td>Uncovered</td><td>3</td><td>72</td></tr>\n",
       "\t<tr><td>Uncovered</td><td>3</td><td>51</td></tr>\n",
       "\t<tr><td>Uncovered</td><td>3</td><td>78</td></tr>\n",
       "\t<tr><td>Uncovered</td><td>4</td><td>82</td></tr>\n",
       "\t<tr><td>Uncovered</td><td>4</td><td>73</td></tr>\n",
       "\t<tr><td>Uncovered</td><td>4</td><td>73</td></tr>\n",
       "\t<tr><td>Uncovered</td><td>4</td><td>84</td></tr>\n",
       "\t<tr><td>Uncovered</td><td>5</td><td>79</td></tr>\n",
       "\t<tr><td>Uncovered</td><td>5</td><td>68</td></tr>\n",
       "\t<tr><td>Uncovered</td><td>5</td><td>74</td></tr>\n",
       "\t<tr><td>Uncovered</td><td>5</td><td>70</td></tr>\n",
       "\t<tr><td>Uncovered</td><td>6</td><td> 0</td></tr>\n",
       "\t<tr><td>Uncovered</td><td>6</td><td> 0</td></tr>\n",
       "\t<tr><td>Uncovered</td><td>6</td><td> 0</td></tr>\n",
       "\t<tr><td>Uncovered</td><td>6</td><td> 0</td></tr>\n",
       "\t<tr><td>Covered  </td><td>1</td><td>45</td></tr>\n",
       "\t<tr><td>Covered  </td><td>1</td><td>41</td></tr>\n",
       "\t<tr><td>Covered  </td><td>1</td><td>42</td></tr>\n",
       "\t<tr><td>Covered  </td><td>1</td><td>43</td></tr>\n",
       "\t<tr><td>Covered  </td><td>2</td><td>65</td></tr>\n",
       "\t<tr><td>Covered  </td><td>2</td><td>80</td></tr>\n",
       "\t<tr><td>Covered  </td><td>2</td><td>79</td></tr>\n",
       "\t<tr><td>Covered  </td><td>2</td><td>77</td></tr>\n",
       "\t<tr><td>Covered  </td><td>3</td><td>81</td></tr>\n",
       "\t<tr><td>Covered  </td><td>3</td><td>73</td></tr>\n",
       "\t<tr><td>Covered  </td><td>3</td><td>74</td></tr>\n",
       "\t<tr><td>Covered  </td><td>3</td><td>76</td></tr>\n",
       "\t<tr><td>Covered  </td><td>4</td><td>55</td></tr>\n",
       "\t<tr><td>Covered  </td><td>4</td><td>51</td></tr>\n",
       "\t<tr><td>Covered  </td><td>4</td><td>40</td></tr>\n",
       "\t<tr><td>Covered  </td><td>4</td><td>62</td></tr>\n",
       "\t<tr><td>Covered  </td><td>5</td><td>31</td></tr>\n",
       "\t<tr><td>Covered  </td><td>5</td><td>36</td></tr>\n",
       "\t<tr><td>Covered  </td><td>5</td><td>45</td></tr>\n",
       "\t<tr><td>Covered  </td><td>5</td><td>39</td></tr>\n",
       "\t<tr><td>Covered  </td><td>6</td><td> 0</td></tr>\n",
       "\t<tr><td>Covered  </td><td>6</td><td> 0</td></tr>\n",
       "\t<tr><td>Covered  </td><td>6</td><td> 0</td></tr>\n",
       "\t<tr><td>Covered  </td><td>6</td><td> 0</td></tr>\n",
       "</tbody>\n",
       "</table>\n"
      ],
      "text/latex": [
       "A data.frame: 48 × 3\n",
       "\\begin{tabular}{lll}\n",
       " Box & water\\_amt & germinated\\\\\n",
       " <chr> & <int> & <int>\\\\\n",
       "\\hline\n",
       "\t Uncovered & 1 & 22\\\\\n",
       "\t Uncovered & 1 & 25\\\\\n",
       "\t Uncovered & 1 & 27\\\\\n",
       "\t Uncovered & 1 & 23\\\\\n",
       "\t Uncovered & 2 & 41\\\\\n",
       "\t Uncovered & 2 & 46\\\\\n",
       "\t Uncovered & 2 & 59\\\\\n",
       "\t Uncovered & 2 & 38\\\\\n",
       "\t Uncovered & 3 & 66\\\\\n",
       "\t Uncovered & 3 & 72\\\\\n",
       "\t Uncovered & 3 & 51\\\\\n",
       "\t Uncovered & 3 & 78\\\\\n",
       "\t Uncovered & 4 & 82\\\\\n",
       "\t Uncovered & 4 & 73\\\\\n",
       "\t Uncovered & 4 & 73\\\\\n",
       "\t Uncovered & 4 & 84\\\\\n",
       "\t Uncovered & 5 & 79\\\\\n",
       "\t Uncovered & 5 & 68\\\\\n",
       "\t Uncovered & 5 & 74\\\\\n",
       "\t Uncovered & 5 & 70\\\\\n",
       "\t Uncovered & 6 &  0\\\\\n",
       "\t Uncovered & 6 &  0\\\\\n",
       "\t Uncovered & 6 &  0\\\\\n",
       "\t Uncovered & 6 &  0\\\\\n",
       "\t Covered   & 1 & 45\\\\\n",
       "\t Covered   & 1 & 41\\\\\n",
       "\t Covered   & 1 & 42\\\\\n",
       "\t Covered   & 1 & 43\\\\\n",
       "\t Covered   & 2 & 65\\\\\n",
       "\t Covered   & 2 & 80\\\\\n",
       "\t Covered   & 2 & 79\\\\\n",
       "\t Covered   & 2 & 77\\\\\n",
       "\t Covered   & 3 & 81\\\\\n",
       "\t Covered   & 3 & 73\\\\\n",
       "\t Covered   & 3 & 74\\\\\n",
       "\t Covered   & 3 & 76\\\\\n",
       "\t Covered   & 4 & 55\\\\\n",
       "\t Covered   & 4 & 51\\\\\n",
       "\t Covered   & 4 & 40\\\\\n",
       "\t Covered   & 4 & 62\\\\\n",
       "\t Covered   & 5 & 31\\\\\n",
       "\t Covered   & 5 & 36\\\\\n",
       "\t Covered   & 5 & 45\\\\\n",
       "\t Covered   & 5 & 39\\\\\n",
       "\t Covered   & 6 &  0\\\\\n",
       "\t Covered   & 6 &  0\\\\\n",
       "\t Covered   & 6 &  0\\\\\n",
       "\t Covered   & 6 &  0\\\\\n",
       "\\end{tabular}\n"
      ],
      "text/markdown": [
       "\n",
       "A data.frame: 48 × 3\n",
       "\n",
       "| Box &lt;chr&gt; | water_amt &lt;int&gt; | germinated &lt;int&gt; |\n",
       "|---|---|---|\n",
       "| Uncovered | 1 | 22 |\n",
       "| Uncovered | 1 | 25 |\n",
       "| Uncovered | 1 | 27 |\n",
       "| Uncovered | 1 | 23 |\n",
       "| Uncovered | 2 | 41 |\n",
       "| Uncovered | 2 | 46 |\n",
       "| Uncovered | 2 | 59 |\n",
       "| Uncovered | 2 | 38 |\n",
       "| Uncovered | 3 | 66 |\n",
       "| Uncovered | 3 | 72 |\n",
       "| Uncovered | 3 | 51 |\n",
       "| Uncovered | 3 | 78 |\n",
       "| Uncovered | 4 | 82 |\n",
       "| Uncovered | 4 | 73 |\n",
       "| Uncovered | 4 | 73 |\n",
       "| Uncovered | 4 | 84 |\n",
       "| Uncovered | 5 | 79 |\n",
       "| Uncovered | 5 | 68 |\n",
       "| Uncovered | 5 | 74 |\n",
       "| Uncovered | 5 | 70 |\n",
       "| Uncovered | 6 |  0 |\n",
       "| Uncovered | 6 |  0 |\n",
       "| Uncovered | 6 |  0 |\n",
       "| Uncovered | 6 |  0 |\n",
       "| Covered   | 1 | 45 |\n",
       "| Covered   | 1 | 41 |\n",
       "| Covered   | 1 | 42 |\n",
       "| Covered   | 1 | 43 |\n",
       "| Covered   | 2 | 65 |\n",
       "| Covered   | 2 | 80 |\n",
       "| Covered   | 2 | 79 |\n",
       "| Covered   | 2 | 77 |\n",
       "| Covered   | 3 | 81 |\n",
       "| Covered   | 3 | 73 |\n",
       "| Covered   | 3 | 74 |\n",
       "| Covered   | 3 | 76 |\n",
       "| Covered   | 4 | 55 |\n",
       "| Covered   | 4 | 51 |\n",
       "| Covered   | 4 | 40 |\n",
       "| Covered   | 4 | 62 |\n",
       "| Covered   | 5 | 31 |\n",
       "| Covered   | 5 | 36 |\n",
       "| Covered   | 5 | 45 |\n",
       "| Covered   | 5 | 39 |\n",
       "| Covered   | 6 |  0 |\n",
       "| Covered   | 6 |  0 |\n",
       "| Covered   | 6 |  0 |\n",
       "| Covered   | 6 |  0 |\n",
       "\n"
      ],
      "text/plain": [
       "   Box       water_amt germinated\n",
       "1  Uncovered 1         22        \n",
       "2  Uncovered 1         25        \n",
       "3  Uncovered 1         27        \n",
       "4  Uncovered 1         23        \n",
       "5  Uncovered 2         41        \n",
       "6  Uncovered 2         46        \n",
       "7  Uncovered 2         59        \n",
       "8  Uncovered 2         38        \n",
       "9  Uncovered 3         66        \n",
       "10 Uncovered 3         72        \n",
       "11 Uncovered 3         51        \n",
       "12 Uncovered 3         78        \n",
       "13 Uncovered 4         82        \n",
       "14 Uncovered 4         73        \n",
       "15 Uncovered 4         73        \n",
       "16 Uncovered 4         84        \n",
       "17 Uncovered 5         79        \n",
       "18 Uncovered 5         68        \n",
       "19 Uncovered 5         74        \n",
       "20 Uncovered 5         70        \n",
       "21 Uncovered 6          0        \n",
       "22 Uncovered 6          0        \n",
       "23 Uncovered 6          0        \n",
       "24 Uncovered 6          0        \n",
       "25 Covered   1         45        \n",
       "26 Covered   1         41        \n",
       "27 Covered   1         42        \n",
       "28 Covered   1         43        \n",
       "29 Covered   2         65        \n",
       "30 Covered   2         80        \n",
       "31 Covered   2         79        \n",
       "32 Covered   2         77        \n",
       "33 Covered   3         81        \n",
       "34 Covered   3         73        \n",
       "35 Covered   3         74        \n",
       "36 Covered   3         76        \n",
       "37 Covered   4         55        \n",
       "38 Covered   4         51        \n",
       "39 Covered   4         40        \n",
       "40 Covered   4         62        \n",
       "41 Covered   5         31        \n",
       "42 Covered   5         36        \n",
       "43 Covered   5         45        \n",
       "44 Covered   5         39        \n",
       "45 Covered   6          0        \n",
       "46 Covered   6          0        \n",
       "47 Covered   6          0        \n",
       "48 Covered   6          0        "
      ]
     },
     "metadata": {},
     "output_type": "display_data"
    }
   ],
   "source": [
    "seeds_data <- read.csv(\"../datasets/germination_csv.csv\")\n",
    "seeds_data"
   ]
  },
  {
   "cell_type": "code",
   "execution_count": 24,
   "metadata": {
    "vscode": {
     "languageId": "r"
    }
   },
   "outputs": [
    {
     "name": "stdout",
     "output_type": "stream",
     "text": [
      "1. Average number of seeds germinated for uncovered boxes with watering level 4: 78 \n",
      "2. Median value of germinated seeds for covered boxes: 45 \n"
     ]
    }
   ],
   "source": [
    "# Assuming 'seeds_data' is your data frame\n",
    "\n",
    "# 1. What is the average number of seeds germinated for the uncovered boxes with level of watering equal to 4?\n",
    "average_germinated_uncovered <- mean(seeds_data$germinated[seeds_data$Box == \"Uncovered\" & seeds_data$water_amt == 4])\n",
    "\n",
    "# 2. What is the median value of the germinated seeds for the data covered boxes?\n",
    "median_germinated_covered <- median(seeds_data$germinated[seeds_data$Box == \"Covered\"])\n",
    "\n",
    "# Displaying the answers\n",
    "cat(\"1. Average number of seeds germinated for uncovered boxes with watering level 4:\", average_germinated_uncovered, \"\\n\")\n",
    "cat(\"2. Median value of germinated seeds for covered boxes:\", median_germinated_covered, \"\\n\")\n"
   ]
  },
  {
   "cell_type": "code",
   "execution_count": null,
   "metadata": {
    "vscode": {
     "languageId": "r"
    }
   },
   "outputs": [],
   "source": []
  }
 ],
 "metadata": {
  "kernelspec": {
   "display_name": "R",
   "language": "R",
   "name": "ir"
  },
  "language_info": {
   "codemirror_mode": "r",
   "file_extension": ".r",
   "mimetype": "text/x-r-source",
   "name": "R",
   "pygments_lexer": "r",
   "version": "4.0.4"
  }
 },
 "nbformat": 4,
 "nbformat_minor": 2
}
