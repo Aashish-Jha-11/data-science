{
 "cells": [
  {
   "cell_type": "markdown",
   "metadata": {},
   "source": [
    "# Nearest Neighbour"
   ]
  },
  {
   "cell_type": "code",
   "execution_count": 2,
   "metadata": {
    "vscode": {
     "languageId": "r"
    }
   },
   "outputs": [
    {
     "data": {
      "text/html": [
       "<table class=\"dataframe\">\n",
       "<caption>A data.frame: 18 × 4</caption>\n",
       "<thead>\n",
       "\t<tr><th scope=col>sno</th><th scope=col>x</th><th scope=col>y</th><th scope=col>class</th></tr>\n",
       "\t<tr><th scope=col>&lt;int&gt;</th><th scope=col>&lt;dbl&gt;</th><th scope=col>&lt;dbl&gt;</th><th scope=col>&lt;int&gt;</th></tr>\n",
       "</thead>\n",
       "<tbody>\n",
       "\t<tr><td> 1</td><td>0.8</td><td>0.8</td><td>1</td></tr>\n",
       "\t<tr><td> 2</td><td>1.0</td><td>1.0</td><td>1</td></tr>\n",
       "\t<tr><td> 3</td><td>1.2</td><td>0.8</td><td>1</td></tr>\n",
       "\t<tr><td> 4</td><td>0.8</td><td>1.2</td><td>1</td></tr>\n",
       "\t<tr><td> 5</td><td>1.2</td><td>1.2</td><td>1</td></tr>\n",
       "\t<tr><td> 6</td><td>4.0</td><td>3.0</td><td>2</td></tr>\n",
       "\t<tr><td> 7</td><td>3.8</td><td>2.8</td><td>2</td></tr>\n",
       "\t<tr><td> 8</td><td>4.2</td><td>2.8</td><td>2</td></tr>\n",
       "\t<tr><td> 9</td><td>3.8</td><td>3.2</td><td>2</td></tr>\n",
       "\t<tr><td>10</td><td>4.2</td><td>3.2</td><td>2</td></tr>\n",
       "\t<tr><td>11</td><td>4.4</td><td>2.8</td><td>2</td></tr>\n",
       "\t<tr><td>12</td><td>4.4</td><td>3.2</td><td>2</td></tr>\n",
       "\t<tr><td>13</td><td>3.2</td><td>0.4</td><td>3</td></tr>\n",
       "\t<tr><td>14</td><td>3.2</td><td>0.7</td><td>3</td></tr>\n",
       "\t<tr><td>15</td><td>3.8</td><td>0.5</td><td>3</td></tr>\n",
       "\t<tr><td>16</td><td>3.5</td><td>1.0</td><td>3</td></tr>\n",
       "\t<tr><td>17</td><td>4.0</td><td>1.0</td><td>3</td></tr>\n",
       "\t<tr><td>18</td><td>4.0</td><td>0.7</td><td>3</td></tr>\n",
       "</tbody>\n",
       "</table>\n"
      ],
      "text/latex": [
       "A data.frame: 18 × 4\n",
       "\\begin{tabular}{llll}\n",
       " sno & x & y & class\\\\\n",
       " <int> & <dbl> & <dbl> & <int>\\\\\n",
       "\\hline\n",
       "\t  1 & 0.8 & 0.8 & 1\\\\\n",
       "\t  2 & 1.0 & 1.0 & 1\\\\\n",
       "\t  3 & 1.2 & 0.8 & 1\\\\\n",
       "\t  4 & 0.8 & 1.2 & 1\\\\\n",
       "\t  5 & 1.2 & 1.2 & 1\\\\\n",
       "\t  6 & 4.0 & 3.0 & 2\\\\\n",
       "\t  7 & 3.8 & 2.8 & 2\\\\\n",
       "\t  8 & 4.2 & 2.8 & 2\\\\\n",
       "\t  9 & 3.8 & 3.2 & 2\\\\\n",
       "\t 10 & 4.2 & 3.2 & 2\\\\\n",
       "\t 11 & 4.4 & 2.8 & 2\\\\\n",
       "\t 12 & 4.4 & 3.2 & 2\\\\\n",
       "\t 13 & 3.2 & 0.4 & 3\\\\\n",
       "\t 14 & 3.2 & 0.7 & 3\\\\\n",
       "\t 15 & 3.8 & 0.5 & 3\\\\\n",
       "\t 16 & 3.5 & 1.0 & 3\\\\\n",
       "\t 17 & 4.0 & 1.0 & 3\\\\\n",
       "\t 18 & 4.0 & 0.7 & 3\\\\\n",
       "\\end{tabular}\n"
      ],
      "text/markdown": [
       "\n",
       "A data.frame: 18 × 4\n",
       "\n",
       "| sno &lt;int&gt; | x &lt;dbl&gt; | y &lt;dbl&gt; | class &lt;int&gt; |\n",
       "|---|---|---|---|\n",
       "|  1 | 0.8 | 0.8 | 1 |\n",
       "|  2 | 1.0 | 1.0 | 1 |\n",
       "|  3 | 1.2 | 0.8 | 1 |\n",
       "|  4 | 0.8 | 1.2 | 1 |\n",
       "|  5 | 1.2 | 1.2 | 1 |\n",
       "|  6 | 4.0 | 3.0 | 2 |\n",
       "|  7 | 3.8 | 2.8 | 2 |\n",
       "|  8 | 4.2 | 2.8 | 2 |\n",
       "|  9 | 3.8 | 3.2 | 2 |\n",
       "| 10 | 4.2 | 3.2 | 2 |\n",
       "| 11 | 4.4 | 2.8 | 2 |\n",
       "| 12 | 4.4 | 3.2 | 2 |\n",
       "| 13 | 3.2 | 0.4 | 3 |\n",
       "| 14 | 3.2 | 0.7 | 3 |\n",
       "| 15 | 3.8 | 0.5 | 3 |\n",
       "| 16 | 3.5 | 1.0 | 3 |\n",
       "| 17 | 4.0 | 1.0 | 3 |\n",
       "| 18 | 4.0 | 0.7 | 3 |\n",
       "\n"
      ],
      "text/plain": [
       "   sno x   y   class\n",
       "1   1  0.8 0.8 1    \n",
       "2   2  1.0 1.0 1    \n",
       "3   3  1.2 0.8 1    \n",
       "4   4  0.8 1.2 1    \n",
       "5   5  1.2 1.2 1    \n",
       "6   6  4.0 3.0 2    \n",
       "7   7  3.8 2.8 2    \n",
       "8   8  4.2 2.8 2    \n",
       "9   9  3.8 3.2 2    \n",
       "10 10  4.2 3.2 2    \n",
       "11 11  4.4 2.8 2    \n",
       "12 12  4.4 3.2 2    \n",
       "13 13  3.2 0.4 3    \n",
       "14 14  3.2 0.7 3    \n",
       "15 15  3.8 0.5 3    \n",
       "16 16  3.5 1.0 3    \n",
       "17 17  4.0 1.0 3    \n",
       "18 18  4.0 0.7 3    "
      ]
     },
     "metadata": {},
     "output_type": "display_data"
    }
   ],
   "source": [
    "f <- read.csv(\"../datasets/knn1_csv.csv\")\n",
    "f"
   ]
  },
  {
   "cell_type": "code",
   "execution_count": 3,
   "metadata": {
    "vscode": {
     "languageId": "r"
    }
   },
   "outputs": [],
   "source": [
    "x <- 3\n",
    "y <- 2\n"
   ]
  },
  {
   "cell_type": "code",
   "execution_count": 4,
   "metadata": {
    "vscode": {
     "languageId": "r"
    }
   },
   "outputs": [
    {
     "data": {
      "text/html": [
       "<style>\n",
       ".list-inline {list-style: none; margin:0; padding: 0}\n",
       ".list-inline>li {display: inline-block}\n",
       ".list-inline>li:not(:last-child)::after {content: \"\\00b7\"; padding: 0 .5ex}\n",
       "</style>\n",
       "<ol class=list-inline><li>2.50599281722833</li><li>2.23606797749979</li><li>2.16333076527839</li><li>2.34093998214392</li><li>1.96977156035922</li><li>1.4142135623731</li><li>1.13137084989848</li><li>1.4422205101856</li><li>1.4422205101856</li><li>1.69705627484771</li><li>1.61245154965971</li><li>1.84390889145858</li><li>1.61245154965971</li><li>1.31529464379659</li><li>1.7</li><li>1.11803398874989</li><li>1.4142135623731</li><li>1.64012194668567</li></ol>\n"
      ],
      "text/latex": [
       "\\begin{enumerate*}\n",
       "\\item 2.50599281722833\n",
       "\\item 2.23606797749979\n",
       "\\item 2.16333076527839\n",
       "\\item 2.34093998214392\n",
       "\\item 1.96977156035922\n",
       "\\item 1.4142135623731\n",
       "\\item 1.13137084989848\n",
       "\\item 1.4422205101856\n",
       "\\item 1.4422205101856\n",
       "\\item 1.69705627484771\n",
       "\\item 1.61245154965971\n",
       "\\item 1.84390889145858\n",
       "\\item 1.61245154965971\n",
       "\\item 1.31529464379659\n",
       "\\item 1.7\n",
       "\\item 1.11803398874989\n",
       "\\item 1.4142135623731\n",
       "\\item 1.64012194668567\n",
       "\\end{enumerate*}\n"
      ],
      "text/markdown": [
       "1. 2.50599281722833\n",
       "2. 2.23606797749979\n",
       "3. 2.16333076527839\n",
       "4. 2.34093998214392\n",
       "5. 1.96977156035922\n",
       "6. 1.4142135623731\n",
       "7. 1.13137084989848\n",
       "8. 1.4422205101856\n",
       "9. 1.4422205101856\n",
       "10. 1.69705627484771\n",
       "11. 1.61245154965971\n",
       "12. 1.84390889145858\n",
       "13. 1.61245154965971\n",
       "14. 1.31529464379659\n",
       "15. 1.7\n",
       "16. 1.11803398874989\n",
       "17. 1.4142135623731\n",
       "18. 1.64012194668567\n",
       "\n",
       "\n"
      ],
      "text/plain": [
       " [1] 2.505993 2.236068 2.163331 2.340940 1.969772 1.414214 1.131371 1.442221\n",
       " [9] 1.442221 1.697056 1.612452 1.843909 1.612452 1.315295 1.700000 1.118034\n",
       "[17] 1.414214 1.640122"
      ]
     },
     "metadata": {},
     "output_type": "display_data"
    }
   ],
   "source": [
    "dist = sqrt((x - f$x)^2 + (y - f$y)^2)\n",
    "dist"
   ]
  },
  {
   "cell_type": "code",
   "execution_count": 5,
   "metadata": {
    "vscode": {
     "languageId": "r"
    }
   },
   "outputs": [
    {
     "data": {
      "text/html": [
       "<table class=\"dataframe\">\n",
       "<caption>A data.frame: 18 × 5</caption>\n",
       "<thead>\n",
       "\t<tr><th scope=col>sno</th><th scope=col>x</th><th scope=col>y</th><th scope=col>class</th><th scope=col>dist</th></tr>\n",
       "\t<tr><th scope=col>&lt;int&gt;</th><th scope=col>&lt;dbl&gt;</th><th scope=col>&lt;dbl&gt;</th><th scope=col>&lt;int&gt;</th><th scope=col>&lt;dbl&gt;</th></tr>\n",
       "</thead>\n",
       "<tbody>\n",
       "\t<tr><td> 1</td><td>0.8</td><td>0.8</td><td>1</td><td>2.505993</td></tr>\n",
       "\t<tr><td> 2</td><td>1.0</td><td>1.0</td><td>1</td><td>2.236068</td></tr>\n",
       "\t<tr><td> 3</td><td>1.2</td><td>0.8</td><td>1</td><td>2.163331</td></tr>\n",
       "\t<tr><td> 4</td><td>0.8</td><td>1.2</td><td>1</td><td>2.340940</td></tr>\n",
       "\t<tr><td> 5</td><td>1.2</td><td>1.2</td><td>1</td><td>1.969772</td></tr>\n",
       "\t<tr><td> 6</td><td>4.0</td><td>3.0</td><td>2</td><td>1.414214</td></tr>\n",
       "\t<tr><td> 7</td><td>3.8</td><td>2.8</td><td>2</td><td>1.131371</td></tr>\n",
       "\t<tr><td> 8</td><td>4.2</td><td>2.8</td><td>2</td><td>1.442221</td></tr>\n",
       "\t<tr><td> 9</td><td>3.8</td><td>3.2</td><td>2</td><td>1.442221</td></tr>\n",
       "\t<tr><td>10</td><td>4.2</td><td>3.2</td><td>2</td><td>1.697056</td></tr>\n",
       "\t<tr><td>11</td><td>4.4</td><td>2.8</td><td>2</td><td>1.612452</td></tr>\n",
       "\t<tr><td>12</td><td>4.4</td><td>3.2</td><td>2</td><td>1.843909</td></tr>\n",
       "\t<tr><td>13</td><td>3.2</td><td>0.4</td><td>3</td><td>1.612452</td></tr>\n",
       "\t<tr><td>14</td><td>3.2</td><td>0.7</td><td>3</td><td>1.315295</td></tr>\n",
       "\t<tr><td>15</td><td>3.8</td><td>0.5</td><td>3</td><td>1.700000</td></tr>\n",
       "\t<tr><td>16</td><td>3.5</td><td>1.0</td><td>3</td><td>1.118034</td></tr>\n",
       "\t<tr><td>17</td><td>4.0</td><td>1.0</td><td>3</td><td>1.414214</td></tr>\n",
       "\t<tr><td>18</td><td>4.0</td><td>0.7</td><td>3</td><td>1.640122</td></tr>\n",
       "</tbody>\n",
       "</table>\n"
      ],
      "text/latex": [
       "A data.frame: 18 × 5\n",
       "\\begin{tabular}{lllll}\n",
       " sno & x & y & class & dist\\\\\n",
       " <int> & <dbl> & <dbl> & <int> & <dbl>\\\\\n",
       "\\hline\n",
       "\t  1 & 0.8 & 0.8 & 1 & 2.505993\\\\\n",
       "\t  2 & 1.0 & 1.0 & 1 & 2.236068\\\\\n",
       "\t  3 & 1.2 & 0.8 & 1 & 2.163331\\\\\n",
       "\t  4 & 0.8 & 1.2 & 1 & 2.340940\\\\\n",
       "\t  5 & 1.2 & 1.2 & 1 & 1.969772\\\\\n",
       "\t  6 & 4.0 & 3.0 & 2 & 1.414214\\\\\n",
       "\t  7 & 3.8 & 2.8 & 2 & 1.131371\\\\\n",
       "\t  8 & 4.2 & 2.8 & 2 & 1.442221\\\\\n",
       "\t  9 & 3.8 & 3.2 & 2 & 1.442221\\\\\n",
       "\t 10 & 4.2 & 3.2 & 2 & 1.697056\\\\\n",
       "\t 11 & 4.4 & 2.8 & 2 & 1.612452\\\\\n",
       "\t 12 & 4.4 & 3.2 & 2 & 1.843909\\\\\n",
       "\t 13 & 3.2 & 0.4 & 3 & 1.612452\\\\\n",
       "\t 14 & 3.2 & 0.7 & 3 & 1.315295\\\\\n",
       "\t 15 & 3.8 & 0.5 & 3 & 1.700000\\\\\n",
       "\t 16 & 3.5 & 1.0 & 3 & 1.118034\\\\\n",
       "\t 17 & 4.0 & 1.0 & 3 & 1.414214\\\\\n",
       "\t 18 & 4.0 & 0.7 & 3 & 1.640122\\\\\n",
       "\\end{tabular}\n"
      ],
      "text/markdown": [
       "\n",
       "A data.frame: 18 × 5\n",
       "\n",
       "| sno &lt;int&gt; | x &lt;dbl&gt; | y &lt;dbl&gt; | class &lt;int&gt; | dist &lt;dbl&gt; |\n",
       "|---|---|---|---|---|\n",
       "|  1 | 0.8 | 0.8 | 1 | 2.505993 |\n",
       "|  2 | 1.0 | 1.0 | 1 | 2.236068 |\n",
       "|  3 | 1.2 | 0.8 | 1 | 2.163331 |\n",
       "|  4 | 0.8 | 1.2 | 1 | 2.340940 |\n",
       "|  5 | 1.2 | 1.2 | 1 | 1.969772 |\n",
       "|  6 | 4.0 | 3.0 | 2 | 1.414214 |\n",
       "|  7 | 3.8 | 2.8 | 2 | 1.131371 |\n",
       "|  8 | 4.2 | 2.8 | 2 | 1.442221 |\n",
       "|  9 | 3.8 | 3.2 | 2 | 1.442221 |\n",
       "| 10 | 4.2 | 3.2 | 2 | 1.697056 |\n",
       "| 11 | 4.4 | 2.8 | 2 | 1.612452 |\n",
       "| 12 | 4.4 | 3.2 | 2 | 1.843909 |\n",
       "| 13 | 3.2 | 0.4 | 3 | 1.612452 |\n",
       "| 14 | 3.2 | 0.7 | 3 | 1.315295 |\n",
       "| 15 | 3.8 | 0.5 | 3 | 1.700000 |\n",
       "| 16 | 3.5 | 1.0 | 3 | 1.118034 |\n",
       "| 17 | 4.0 | 1.0 | 3 | 1.414214 |\n",
       "| 18 | 4.0 | 0.7 | 3 | 1.640122 |\n",
       "\n"
      ],
      "text/plain": [
       "   sno x   y   class dist    \n",
       "1   1  0.8 0.8 1     2.505993\n",
       "2   2  1.0 1.0 1     2.236068\n",
       "3   3  1.2 0.8 1     2.163331\n",
       "4   4  0.8 1.2 1     2.340940\n",
       "5   5  1.2 1.2 1     1.969772\n",
       "6   6  4.0 3.0 2     1.414214\n",
       "7   7  3.8 2.8 2     1.131371\n",
       "8   8  4.2 2.8 2     1.442221\n",
       "9   9  3.8 3.2 2     1.442221\n",
       "10 10  4.2 3.2 2     1.697056\n",
       "11 11  4.4 2.8 2     1.612452\n",
       "12 12  4.4 3.2 2     1.843909\n",
       "13 13  3.2 0.4 3     1.612452\n",
       "14 14  3.2 0.7 3     1.315295\n",
       "15 15  3.8 0.5 3     1.700000\n",
       "16 16  3.5 1.0 3     1.118034\n",
       "17 17  4.0 1.0 3     1.414214\n",
       "18 18  4.0 0.7 3     1.640122"
      ]
     },
     "metadata": {},
     "output_type": "display_data"
    }
   ],
   "source": [
    "f <- cbind(f, dist)\n",
    "f"
   ]
  },
  {
   "cell_type": "code",
   "execution_count": 6,
   "metadata": {
    "vscode": {
     "languageId": "r"
    }
   },
   "outputs": [
    {
     "data": {
      "text/html": [
       "1.11803398874989"
      ],
      "text/latex": [
       "1.11803398874989"
      ],
      "text/markdown": [
       "1.11803398874989"
      ],
      "text/plain": [
       "[1] 1.118034"
      ]
     },
     "metadata": {},
     "output_type": "display_data"
    }
   ],
   "source": [
    "min(f$dist)"
   ]
  },
  {
   "cell_type": "code",
   "execution_count": 7,
   "metadata": {
    "vscode": {
     "languageId": "r"
    }
   },
   "outputs": [
    {
     "data": {
      "text/html": [
       "2.50599281722833"
      ],
      "text/latex": [
       "2.50599281722833"
      ],
      "text/markdown": [
       "2.50599281722833"
      ],
      "text/plain": [
       "[1] 2.505993"
      ]
     },
     "metadata": {},
     "output_type": "display_data"
    }
   ],
   "source": [
    "max(f$dist)"
   ]
  },
  {
   "cell_type": "code",
   "execution_count": 8,
   "metadata": {
    "vscode": {
     "languageId": "r"
    }
   },
   "outputs": [
    {
     "data": {
      "text/html": [
       "<style>\n",
       ".list-inline {list-style: none; margin:0; padding: 0}\n",
       ".list-inline>li {display: inline-block}\n",
       ".list-inline>li:not(:last-child)::after {content: \"\\00b7\"; padding: 0 .5ex}\n",
       "</style>\n",
       "<ol class=list-inline><li>16</li><li>7</li><li>14</li><li>6</li><li>17</li><li>8</li><li>9</li><li>11</li><li>13</li><li>18</li><li>10</li><li>15</li><li>12</li><li>5</li><li>3</li><li>2</li><li>4</li><li>1</li></ol>\n"
      ],
      "text/latex": [
       "\\begin{enumerate*}\n",
       "\\item 16\n",
       "\\item 7\n",
       "\\item 14\n",
       "\\item 6\n",
       "\\item 17\n",
       "\\item 8\n",
       "\\item 9\n",
       "\\item 11\n",
       "\\item 13\n",
       "\\item 18\n",
       "\\item 10\n",
       "\\item 15\n",
       "\\item 12\n",
       "\\item 5\n",
       "\\item 3\n",
       "\\item 2\n",
       "\\item 4\n",
       "\\item 1\n",
       "\\end{enumerate*}\n"
      ],
      "text/markdown": [
       "1. 16\n",
       "2. 7\n",
       "3. 14\n",
       "4. 6\n",
       "5. 17\n",
       "6. 8\n",
       "7. 9\n",
       "8. 11\n",
       "9. 13\n",
       "10. 18\n",
       "11. 10\n",
       "12. 15\n",
       "13. 12\n",
       "14. 5\n",
       "15. 3\n",
       "16. 2\n",
       "17. 4\n",
       "18. 1\n",
       "\n",
       "\n"
      ],
      "text/plain": [
       " [1] 16  7 14  6 17  8  9 11 13 18 10 15 12  5  3  2  4  1"
      ]
     },
     "metadata": {},
     "output_type": "display_data"
    }
   ],
   "source": [
    "order(f$dist)"
   ]
  },
  {
   "cell_type": "code",
   "execution_count": 9,
   "metadata": {
    "vscode": {
     "languageId": "r"
    }
   },
   "outputs": [
    {
     "data": {
      "text/html": [
       "<table class=\"dataframe\">\n",
       "<caption>A data.frame: 18 × 5</caption>\n",
       "<thead>\n",
       "\t<tr><th></th><th scope=col>sno</th><th scope=col>x</th><th scope=col>y</th><th scope=col>class</th><th scope=col>dist</th></tr>\n",
       "\t<tr><th></th><th scope=col>&lt;int&gt;</th><th scope=col>&lt;dbl&gt;</th><th scope=col>&lt;dbl&gt;</th><th scope=col>&lt;int&gt;</th><th scope=col>&lt;dbl&gt;</th></tr>\n",
       "</thead>\n",
       "<tbody>\n",
       "\t<tr><th scope=row>16</th><td>16</td><td>3.5</td><td>1.0</td><td>3</td><td>1.118034</td></tr>\n",
       "\t<tr><th scope=row>7</th><td> 7</td><td>3.8</td><td>2.8</td><td>2</td><td>1.131371</td></tr>\n",
       "\t<tr><th scope=row>14</th><td>14</td><td>3.2</td><td>0.7</td><td>3</td><td>1.315295</td></tr>\n",
       "\t<tr><th scope=row>6</th><td> 6</td><td>4.0</td><td>3.0</td><td>2</td><td>1.414214</td></tr>\n",
       "\t<tr><th scope=row>17</th><td>17</td><td>4.0</td><td>1.0</td><td>3</td><td>1.414214</td></tr>\n",
       "\t<tr><th scope=row>8</th><td> 8</td><td>4.2</td><td>2.8</td><td>2</td><td>1.442221</td></tr>\n",
       "\t<tr><th scope=row>9</th><td> 9</td><td>3.8</td><td>3.2</td><td>2</td><td>1.442221</td></tr>\n",
       "\t<tr><th scope=row>11</th><td>11</td><td>4.4</td><td>2.8</td><td>2</td><td>1.612452</td></tr>\n",
       "\t<tr><th scope=row>13</th><td>13</td><td>3.2</td><td>0.4</td><td>3</td><td>1.612452</td></tr>\n",
       "\t<tr><th scope=row>18</th><td>18</td><td>4.0</td><td>0.7</td><td>3</td><td>1.640122</td></tr>\n",
       "\t<tr><th scope=row>10</th><td>10</td><td>4.2</td><td>3.2</td><td>2</td><td>1.697056</td></tr>\n",
       "\t<tr><th scope=row>15</th><td>15</td><td>3.8</td><td>0.5</td><td>3</td><td>1.700000</td></tr>\n",
       "\t<tr><th scope=row>12</th><td>12</td><td>4.4</td><td>3.2</td><td>2</td><td>1.843909</td></tr>\n",
       "\t<tr><th scope=row>5</th><td> 5</td><td>1.2</td><td>1.2</td><td>1</td><td>1.969772</td></tr>\n",
       "\t<tr><th scope=row>3</th><td> 3</td><td>1.2</td><td>0.8</td><td>1</td><td>2.163331</td></tr>\n",
       "\t<tr><th scope=row>2</th><td> 2</td><td>1.0</td><td>1.0</td><td>1</td><td>2.236068</td></tr>\n",
       "\t<tr><th scope=row>4</th><td> 4</td><td>0.8</td><td>1.2</td><td>1</td><td>2.340940</td></tr>\n",
       "\t<tr><th scope=row>1</th><td> 1</td><td>0.8</td><td>0.8</td><td>1</td><td>2.505993</td></tr>\n",
       "</tbody>\n",
       "</table>\n"
      ],
      "text/latex": [
       "A data.frame: 18 × 5\n",
       "\\begin{tabular}{r|lllll}\n",
       "  & sno & x & y & class & dist\\\\\n",
       "  & <int> & <dbl> & <dbl> & <int> & <dbl>\\\\\n",
       "\\hline\n",
       "\t16 & 16 & 3.5 & 1.0 & 3 & 1.118034\\\\\n",
       "\t7 &  7 & 3.8 & 2.8 & 2 & 1.131371\\\\\n",
       "\t14 & 14 & 3.2 & 0.7 & 3 & 1.315295\\\\\n",
       "\t6 &  6 & 4.0 & 3.0 & 2 & 1.414214\\\\\n",
       "\t17 & 17 & 4.0 & 1.0 & 3 & 1.414214\\\\\n",
       "\t8 &  8 & 4.2 & 2.8 & 2 & 1.442221\\\\\n",
       "\t9 &  9 & 3.8 & 3.2 & 2 & 1.442221\\\\\n",
       "\t11 & 11 & 4.4 & 2.8 & 2 & 1.612452\\\\\n",
       "\t13 & 13 & 3.2 & 0.4 & 3 & 1.612452\\\\\n",
       "\t18 & 18 & 4.0 & 0.7 & 3 & 1.640122\\\\\n",
       "\t10 & 10 & 4.2 & 3.2 & 2 & 1.697056\\\\\n",
       "\t15 & 15 & 3.8 & 0.5 & 3 & 1.700000\\\\\n",
       "\t12 & 12 & 4.4 & 3.2 & 2 & 1.843909\\\\\n",
       "\t5 &  5 & 1.2 & 1.2 & 1 & 1.969772\\\\\n",
       "\t3 &  3 & 1.2 & 0.8 & 1 & 2.163331\\\\\n",
       "\t2 &  2 & 1.0 & 1.0 & 1 & 2.236068\\\\\n",
       "\t4 &  4 & 0.8 & 1.2 & 1 & 2.340940\\\\\n",
       "\t1 &  1 & 0.8 & 0.8 & 1 & 2.505993\\\\\n",
       "\\end{tabular}\n"
      ],
      "text/markdown": [
       "\n",
       "A data.frame: 18 × 5\n",
       "\n",
       "| <!--/--> | sno &lt;int&gt; | x &lt;dbl&gt; | y &lt;dbl&gt; | class &lt;int&gt; | dist &lt;dbl&gt; |\n",
       "|---|---|---|---|---|---|\n",
       "| 16 | 16 | 3.5 | 1.0 | 3 | 1.118034 |\n",
       "| 7 |  7 | 3.8 | 2.8 | 2 | 1.131371 |\n",
       "| 14 | 14 | 3.2 | 0.7 | 3 | 1.315295 |\n",
       "| 6 |  6 | 4.0 | 3.0 | 2 | 1.414214 |\n",
       "| 17 | 17 | 4.0 | 1.0 | 3 | 1.414214 |\n",
       "| 8 |  8 | 4.2 | 2.8 | 2 | 1.442221 |\n",
       "| 9 |  9 | 3.8 | 3.2 | 2 | 1.442221 |\n",
       "| 11 | 11 | 4.4 | 2.8 | 2 | 1.612452 |\n",
       "| 13 | 13 | 3.2 | 0.4 | 3 | 1.612452 |\n",
       "| 18 | 18 | 4.0 | 0.7 | 3 | 1.640122 |\n",
       "| 10 | 10 | 4.2 | 3.2 | 2 | 1.697056 |\n",
       "| 15 | 15 | 3.8 | 0.5 | 3 | 1.700000 |\n",
       "| 12 | 12 | 4.4 | 3.2 | 2 | 1.843909 |\n",
       "| 5 |  5 | 1.2 | 1.2 | 1 | 1.969772 |\n",
       "| 3 |  3 | 1.2 | 0.8 | 1 | 2.163331 |\n",
       "| 2 |  2 | 1.0 | 1.0 | 1 | 2.236068 |\n",
       "| 4 |  4 | 0.8 | 1.2 | 1 | 2.340940 |\n",
       "| 1 |  1 | 0.8 | 0.8 | 1 | 2.505993 |\n",
       "\n"
      ],
      "text/plain": [
       "   sno x   y   class dist    \n",
       "16 16  3.5 1.0 3     1.118034\n",
       "7   7  3.8 2.8 2     1.131371\n",
       "14 14  3.2 0.7 3     1.315295\n",
       "6   6  4.0 3.0 2     1.414214\n",
       "17 17  4.0 1.0 3     1.414214\n",
       "8   8  4.2 2.8 2     1.442221\n",
       "9   9  3.8 3.2 2     1.442221\n",
       "11 11  4.4 2.8 2     1.612452\n",
       "13 13  3.2 0.4 3     1.612452\n",
       "18 18  4.0 0.7 3     1.640122\n",
       "10 10  4.2 3.2 2     1.697056\n",
       "15 15  3.8 0.5 3     1.700000\n",
       "12 12  4.4 3.2 2     1.843909\n",
       "5   5  1.2 1.2 1     1.969772\n",
       "3   3  1.2 0.8 1     2.163331\n",
       "2   2  1.0 1.0 1     2.236068\n",
       "4   4  0.8 1.2 1     2.340940\n",
       "1   1  0.8 0.8 1     2.505993"
      ]
     },
     "metadata": {},
     "output_type": "display_data"
    }
   ],
   "source": [
    "f <- f[order(f$dist, na.last = TRUE, decreasing = FALSE), ]\n",
    "f\n",
    "# Get sorted data"
   ]
  },
  {
   "cell_type": "markdown",
   "metadata": {},
   "source": [
    "1. NN\n",
    "\n",
    "2. KNN with K=5 and K=7.\n",
    "\n",
    "3. R-NN Radius based algorithm with radius as 1.45 units.\n",
    "\n",
    "4. MKNN with K=5"
   ]
  },
  {
   "cell_type": "code",
   "execution_count": 10,
   "metadata": {
    "vscode": {
     "languageId": "r"
    }
   },
   "outputs": [
    {
     "name": "stdout",
     "output_type": "stream",
     "text": [
      "fn claass of P for NN is 3"
     ]
    }
   ],
   "source": [
    "#NN\n",
    "cat(\"fn claass of P for NN is\", f[1,4])"
   ]
  },
  {
   "cell_type": "code",
   "execution_count": 11,
   "metadata": {
    "vscode": {
     "languageId": "r"
    }
   },
   "outputs": [
    {
     "name": "stdout",
     "output_type": "stream",
     "text": [
      "claass of P for KNN with n=5 in 3"
     ]
    }
   ],
   "source": [
    "# KNN n=5\n",
    "d1 <- f[1:5, ]\n",
    "l1 <- sum(d1$class == 1)\n",
    "\n",
    "\n",
    "l2 <- sum(d1$class == 2)\n",
    "\n",
    "\n",
    "l3 <- sum(d1$class == 3)\n",
    "\n",
    "\n",
    "if(l3 > l2 && l3 > l1)\n",
    "cat(\"claass of P for KNN with n=5 in 3\")\n",
    "if(l2 > l3 && l2 > l1)\n",
    "cat(\"claass of P for KNN with n=5 in 2\")\n",
    "if(l1 > l2 && l1 > l2)\n",
    "cat(\"claass of P for KNN with n=5 in 1\")"
   ]
  },
  {
   "cell_type": "code",
   "execution_count": null,
   "metadata": {
    "vscode": {
     "languageId": "r"
    }
   },
   "outputs": [],
   "source": []
  },
  {
   "cell_type": "code",
   "execution_count": 21,
   "metadata": {
    "vscode": {
     "languageId": "r"
    }
   },
   "outputs": [
    {
     "name": "stdout",
     "output_type": "stream",
     "text": [
      "class of P for KNN with n=7 is 2"
     ]
    }
   ],
   "source": [
    "# KNN n=7\n",
    "d1 <- f[1:7, ]\n",
    "l1 <- sum(d1$class == 1)\n",
    "\n",
    "l2 <- sum(d1$class == 2)\n",
    "\n",
    "l3 <- sum(d1$class == 3)\n",
    "\n",
    "if(l3 > l2 && l3 > l1)\n",
    "cat(\"class of P for KNN with n=7 is 3\")\n",
    "if(l2 > l3 && l2 > l1)\n",
    "cat(\"class of P for KNN with n=7 is 2\")\n",
    "if(l1 > l2 && l1 > l2)\n",
    "cat(\"class of P for KNN with n=7 is 1\")"
   ]
  },
  {
   "cell_type": "code",
   "execution_count": 22,
   "metadata": {
    "vscode": {
     "languageId": "r"
    }
   },
   "outputs": [
    {
     "name": "stdout",
     "output_type": "stream",
     "text": [
      "class of P for RNN with r=7  is 2"
     ]
    }
   ],
   "source": [
    "# RNN r=7\n",
    "d1 <- f[f$dist < 1.45,]\n",
    "l1 <- sum(d1$class == 1)\n",
    "\n",
    "l2 <- sum(d1$class == 2)\n",
    "\n",
    "l3 <- sum(d1$class == 3)\n",
    "\n",
    "if(l3 > l2 && l3 > l1)\n",
    "cat(\"class of P for RNN with r=7  is 3\")\n",
    "if(l2 > l3 && l2 > l1)\n",
    "cat(\"class of P for RNN with r=7  is 2\")\n",
    "if(l1 > l2 && l1 > l2)\n",
    "cat(\"class of P for RNN with r=7 is 1\")"
   ]
  },
  {
   "cell_type": "code",
   "execution_count": 23,
   "metadata": {
    "vscode": {
     "languageId": "r"
    }
   },
   "outputs": [],
   "source": [
    "#MKNN k = 5\n",
    "# modified knn"
   ]
  },
  {
   "cell_type": "code",
   "execution_count": 24,
   "metadata": {
    "vscode": {
     "languageId": "r"
    }
   },
   "outputs": [
    {
     "data": {
      "text/plain": [
       ", , y = 0.7, class = 2, dist = 1.11803398874989\n",
       "\n",
       "    x\n",
       "sno  3.2 3.5 3.8 4 4.2\n",
       "  6    0   0   0 0   0\n",
       "  7    0   0   0 0   0\n",
       "  8    0   0   0 0   0\n",
       "  9    0   0   0 0   0\n",
       "  14   0   0   0 0   0\n",
       "  16   0   0   0 0   0\n",
       "  17   0   0   0 0   0\n",
       "\n",
       ", , y = 1, class = 2, dist = 1.11803398874989\n",
       "\n",
       "    x\n",
       "sno  3.2 3.5 3.8 4 4.2\n",
       "  6    0   0   0 0   0\n",
       "  7    0   0   0 0   0\n",
       "  8    0   0   0 0   0\n",
       "  9    0   0   0 0   0\n",
       "  14   0   0   0 0   0\n",
       "  16   0   0   0 0   0\n",
       "  17   0   0   0 0   0\n",
       "\n",
       ", , y = 2.8, class = 2, dist = 1.11803398874989\n",
       "\n",
       "    x\n",
       "sno  3.2 3.5 3.8 4 4.2\n",
       "  6    0   0   0 0   0\n",
       "  7    0   0   0 0   0\n",
       "  8    0   0   0 0   0\n",
       "  9    0   0   0 0   0\n",
       "  14   0   0   0 0   0\n",
       "  16   0   0   0 0   0\n",
       "  17   0   0   0 0   0\n",
       "\n",
       ", , y = 3, class = 2, dist = 1.11803398874989\n",
       "\n",
       "    x\n",
       "sno  3.2 3.5 3.8 4 4.2\n",
       "  6    0   0   0 0   0\n",
       "  7    0   0   0 0   0\n",
       "  8    0   0   0 0   0\n",
       "  9    0   0   0 0   0\n",
       "  14   0   0   0 0   0\n",
       "  16   0   0   0 0   0\n",
       "  17   0   0   0 0   0\n",
       "\n",
       ", , y = 3.2, class = 2, dist = 1.11803398874989\n",
       "\n",
       "    x\n",
       "sno  3.2 3.5 3.8 4 4.2\n",
       "  6    0   0   0 0   0\n",
       "  7    0   0   0 0   0\n",
       "  8    0   0   0 0   0\n",
       "  9    0   0   0 0   0\n",
       "  14   0   0   0 0   0\n",
       "  16   0   0   0 0   0\n",
       "  17   0   0   0 0   0\n",
       "\n",
       ", , y = 0.7, class = 3, dist = 1.11803398874989\n",
       "\n",
       "    x\n",
       "sno  3.2 3.5 3.8 4 4.2\n",
       "  6    0   0   0 0   0\n",
       "  7    0   0   0 0   0\n",
       "  8    0   0   0 0   0\n",
       "  9    0   0   0 0   0\n",
       "  14   0   0   0 0   0\n",
       "  16   0   0   0 0   0\n",
       "  17   0   0   0 0   0\n",
       "\n",
       ", , y = 1, class = 3, dist = 1.11803398874989\n",
       "\n",
       "    x\n",
       "sno  3.2 3.5 3.8 4 4.2\n",
       "  6    0   0   0 0   0\n",
       "  7    0   0   0 0   0\n",
       "  8    0   0   0 0   0\n",
       "  9    0   0   0 0   0\n",
       "  14   0   0   0 0   0\n",
       "  16   0   1   0 0   0\n",
       "  17   0   0   0 0   0\n",
       "\n",
       ", , y = 2.8, class = 3, dist = 1.11803398874989\n",
       "\n",
       "    x\n",
       "sno  3.2 3.5 3.8 4 4.2\n",
       "  6    0   0   0 0   0\n",
       "  7    0   0   0 0   0\n",
       "  8    0   0   0 0   0\n",
       "  9    0   0   0 0   0\n",
       "  14   0   0   0 0   0\n",
       "  16   0   0   0 0   0\n",
       "  17   0   0   0 0   0\n",
       "\n",
       ", , y = 3, class = 3, dist = 1.11803398874989\n",
       "\n",
       "    x\n",
       "sno  3.2 3.5 3.8 4 4.2\n",
       "  6    0   0   0 0   0\n",
       "  7    0   0   0 0   0\n",
       "  8    0   0   0 0   0\n",
       "  9    0   0   0 0   0\n",
       "  14   0   0   0 0   0\n",
       "  16   0   0   0 0   0\n",
       "  17   0   0   0 0   0\n",
       "\n",
       ", , y = 3.2, class = 3, dist = 1.11803398874989\n",
       "\n",
       "    x\n",
       "sno  3.2 3.5 3.8 4 4.2\n",
       "  6    0   0   0 0   0\n",
       "  7    0   0   0 0   0\n",
       "  8    0   0   0 0   0\n",
       "  9    0   0   0 0   0\n",
       "  14   0   0   0 0   0\n",
       "  16   0   0   0 0   0\n",
       "  17   0   0   0 0   0\n",
       "\n",
       ", , y = 0.7, class = 2, dist = 1.13137084989848\n",
       "\n",
       "    x\n",
       "sno  3.2 3.5 3.8 4 4.2\n",
       "  6    0   0   0 0   0\n",
       "  7    0   0   0 0   0\n",
       "  8    0   0   0 0   0\n",
       "  9    0   0   0 0   0\n",
       "  14   0   0   0 0   0\n",
       "  16   0   0   0 0   0\n",
       "  17   0   0   0 0   0\n",
       "\n",
       ", , y = 1, class = 2, dist = 1.13137084989848\n",
       "\n",
       "    x\n",
       "sno  3.2 3.5 3.8 4 4.2\n",
       "  6    0   0   0 0   0\n",
       "  7    0   0   0 0   0\n",
       "  8    0   0   0 0   0\n",
       "  9    0   0   0 0   0\n",
       "  14   0   0   0 0   0\n",
       "  16   0   0   0 0   0\n",
       "  17   0   0   0 0   0\n",
       "\n",
       ", , y = 2.8, class = 2, dist = 1.13137084989848\n",
       "\n",
       "    x\n",
       "sno  3.2 3.5 3.8 4 4.2\n",
       "  6    0   0   0 0   0\n",
       "  7    0   0   1 0   0\n",
       "  8    0   0   0 0   0\n",
       "  9    0   0   0 0   0\n",
       "  14   0   0   0 0   0\n",
       "  16   0   0   0 0   0\n",
       "  17   0   0   0 0   0\n",
       "\n",
       ", , y = 3, class = 2, dist = 1.13137084989848\n",
       "\n",
       "    x\n",
       "sno  3.2 3.5 3.8 4 4.2\n",
       "  6    0   0   0 0   0\n",
       "  7    0   0   0 0   0\n",
       "  8    0   0   0 0   0\n",
       "  9    0   0   0 0   0\n",
       "  14   0   0   0 0   0\n",
       "  16   0   0   0 0   0\n",
       "  17   0   0   0 0   0\n",
       "\n",
       ", , y = 3.2, class = 2, dist = 1.13137084989848\n",
       "\n",
       "    x\n",
       "sno  3.2 3.5 3.8 4 4.2\n",
       "  6    0   0   0 0   0\n",
       "  7    0   0   0 0   0\n",
       "  8    0   0   0 0   0\n",
       "  9    0   0   0 0   0\n",
       "  14   0   0   0 0   0\n",
       "  16   0   0   0 0   0\n",
       "  17   0   0   0 0   0\n",
       "\n",
       ", , y = 0.7, class = 3, dist = 1.13137084989848\n",
       "\n",
       "    x\n",
       "sno  3.2 3.5 3.8 4 4.2\n",
       "  6    0   0   0 0   0\n",
       "  7    0   0   0 0   0\n",
       "  8    0   0   0 0   0\n",
       "  9    0   0   0 0   0\n",
       "  14   0   0   0 0   0\n",
       "  16   0   0   0 0   0\n",
       "  17   0   0   0 0   0\n",
       "\n",
       ", , y = 1, class = 3, dist = 1.13137084989848\n",
       "\n",
       "    x\n",
       "sno  3.2 3.5 3.8 4 4.2\n",
       "  6    0   0   0 0   0\n",
       "  7    0   0   0 0   0\n",
       "  8    0   0   0 0   0\n",
       "  9    0   0   0 0   0\n",
       "  14   0   0   0 0   0\n",
       "  16   0   0   0 0   0\n",
       "  17   0   0   0 0   0\n",
       "\n",
       ", , y = 2.8, class = 3, dist = 1.13137084989848\n",
       "\n",
       "    x\n",
       "sno  3.2 3.5 3.8 4 4.2\n",
       "  6    0   0   0 0   0\n",
       "  7    0   0   0 0   0\n",
       "  8    0   0   0 0   0\n",
       "  9    0   0   0 0   0\n",
       "  14   0   0   0 0   0\n",
       "  16   0   0   0 0   0\n",
       "  17   0   0   0 0   0\n",
       "\n",
       ", , y = 3, class = 3, dist = 1.13137084989848\n",
       "\n",
       "    x\n",
       "sno  3.2 3.5 3.8 4 4.2\n",
       "  6    0   0   0 0   0\n",
       "  7    0   0   0 0   0\n",
       "  8    0   0   0 0   0\n",
       "  9    0   0   0 0   0\n",
       "  14   0   0   0 0   0\n",
       "  16   0   0   0 0   0\n",
       "  17   0   0   0 0   0\n",
       "\n",
       ", , y = 3.2, class = 3, dist = 1.13137084989848\n",
       "\n",
       "    x\n",
       "sno  3.2 3.5 3.8 4 4.2\n",
       "  6    0   0   0 0   0\n",
       "  7    0   0   0 0   0\n",
       "  8    0   0   0 0   0\n",
       "  9    0   0   0 0   0\n",
       "  14   0   0   0 0   0\n",
       "  16   0   0   0 0   0\n",
       "  17   0   0   0 0   0\n",
       "\n",
       ", , y = 0.7, class = 2, dist = 1.31529464379659\n",
       "\n",
       "    x\n",
       "sno  3.2 3.5 3.8 4 4.2\n",
       "  6    0   0   0 0   0\n",
       "  7    0   0   0 0   0\n",
       "  8    0   0   0 0   0\n",
       "  9    0   0   0 0   0\n",
       "  14   0   0   0 0   0\n",
       "  16   0   0   0 0   0\n",
       "  17   0   0   0 0   0\n",
       "\n",
       ", , y = 1, class = 2, dist = 1.31529464379659\n",
       "\n",
       "    x\n",
       "sno  3.2 3.5 3.8 4 4.2\n",
       "  6    0   0   0 0   0\n",
       "  7    0   0   0 0   0\n",
       "  8    0   0   0 0   0\n",
       "  9    0   0   0 0   0\n",
       "  14   0   0   0 0   0\n",
       "  16   0   0   0 0   0\n",
       "  17   0   0   0 0   0\n",
       "\n",
       ", , y = 2.8, class = 2, dist = 1.31529464379659\n",
       "\n",
       "    x\n",
       "sno  3.2 3.5 3.8 4 4.2\n",
       "  6    0   0   0 0   0\n",
       "  7    0   0   0 0   0\n",
       "  8    0   0   0 0   0\n",
       "  9    0   0   0 0   0\n",
       "  14   0   0   0 0   0\n",
       "  16   0   0   0 0   0\n",
       "  17   0   0   0 0   0\n",
       "\n",
       ", , y = 3, class = 2, dist = 1.31529464379659\n",
       "\n",
       "    x\n",
       "sno  3.2 3.5 3.8 4 4.2\n",
       "  6    0   0   0 0   0\n",
       "  7    0   0   0 0   0\n",
       "  8    0   0   0 0   0\n",
       "  9    0   0   0 0   0\n",
       "  14   0   0   0 0   0\n",
       "  16   0   0   0 0   0\n",
       "  17   0   0   0 0   0\n",
       "\n",
       ", , y = 3.2, class = 2, dist = 1.31529464379659\n",
       "\n",
       "    x\n",
       "sno  3.2 3.5 3.8 4 4.2\n",
       "  6    0   0   0 0   0\n",
       "  7    0   0   0 0   0\n",
       "  8    0   0   0 0   0\n",
       "  9    0   0   0 0   0\n",
       "  14   0   0   0 0   0\n",
       "  16   0   0   0 0   0\n",
       "  17   0   0   0 0   0\n",
       "\n",
       ", , y = 0.7, class = 3, dist = 1.31529464379659\n",
       "\n",
       "    x\n",
       "sno  3.2 3.5 3.8 4 4.2\n",
       "  6    0   0   0 0   0\n",
       "  7    0   0   0 0   0\n",
       "  8    0   0   0 0   0\n",
       "  9    0   0   0 0   0\n",
       "  14   1   0   0 0   0\n",
       "  16   0   0   0 0   0\n",
       "  17   0   0   0 0   0\n",
       "\n",
       ", , y = 1, class = 3, dist = 1.31529464379659\n",
       "\n",
       "    x\n",
       "sno  3.2 3.5 3.8 4 4.2\n",
       "  6    0   0   0 0   0\n",
       "  7    0   0   0 0   0\n",
       "  8    0   0   0 0   0\n",
       "  9    0   0   0 0   0\n",
       "  14   0   0   0 0   0\n",
       "  16   0   0   0 0   0\n",
       "  17   0   0   0 0   0\n",
       "\n",
       ", , y = 2.8, class = 3, dist = 1.31529464379659\n",
       "\n",
       "    x\n",
       "sno  3.2 3.5 3.8 4 4.2\n",
       "  6    0   0   0 0   0\n",
       "  7    0   0   0 0   0\n",
       "  8    0   0   0 0   0\n",
       "  9    0   0   0 0   0\n",
       "  14   0   0   0 0   0\n",
       "  16   0   0   0 0   0\n",
       "  17   0   0   0 0   0\n",
       "\n",
       ", , y = 3, class = 3, dist = 1.31529464379659\n",
       "\n",
       "    x\n",
       "sno  3.2 3.5 3.8 4 4.2\n",
       "  6    0   0   0 0   0\n",
       "  7    0   0   0 0   0\n",
       "  8    0   0   0 0   0\n",
       "  9    0   0   0 0   0\n",
       "  14   0   0   0 0   0\n",
       "  16   0   0   0 0   0\n",
       "  17   0   0   0 0   0\n",
       "\n",
       ", , y = 3.2, class = 3, dist = 1.31529464379659\n",
       "\n",
       "    x\n",
       "sno  3.2 3.5 3.8 4 4.2\n",
       "  6    0   0   0 0   0\n",
       "  7    0   0   0 0   0\n",
       "  8    0   0   0 0   0\n",
       "  9    0   0   0 0   0\n",
       "  14   0   0   0 0   0\n",
       "  16   0   0   0 0   0\n",
       "  17   0   0   0 0   0\n",
       "\n",
       ", , y = 0.7, class = 2, dist = 1.4142135623731\n",
       "\n",
       "    x\n",
       "sno  3.2 3.5 3.8 4 4.2\n",
       "  6    0   0   0 0   0\n",
       "  7    0   0   0 0   0\n",
       "  8    0   0   0 0   0\n",
       "  9    0   0   0 0   0\n",
       "  14   0   0   0 0   0\n",
       "  16   0   0   0 0   0\n",
       "  17   0   0   0 0   0\n",
       "\n",
       ", , y = 1, class = 2, dist = 1.4142135623731\n",
       "\n",
       "    x\n",
       "sno  3.2 3.5 3.8 4 4.2\n",
       "  6    0   0   0 0   0\n",
       "  7    0   0   0 0   0\n",
       "  8    0   0   0 0   0\n",
       "  9    0   0   0 0   0\n",
       "  14   0   0   0 0   0\n",
       "  16   0   0   0 0   0\n",
       "  17   0   0   0 0   0\n",
       "\n",
       ", , y = 2.8, class = 2, dist = 1.4142135623731\n",
       "\n",
       "    x\n",
       "sno  3.2 3.5 3.8 4 4.2\n",
       "  6    0   0   0 0   0\n",
       "  7    0   0   0 0   0\n",
       "  8    0   0   0 0   0\n",
       "  9    0   0   0 0   0\n",
       "  14   0   0   0 0   0\n",
       "  16   0   0   0 0   0\n",
       "  17   0   0   0 0   0\n",
       "\n",
       ", , y = 3, class = 2, dist = 1.4142135623731\n",
       "\n",
       "    x\n",
       "sno  3.2 3.5 3.8 4 4.2\n",
       "  6    0   0   0 1   0\n",
       "  7    0   0   0 0   0\n",
       "  8    0   0   0 0   0\n",
       "  9    0   0   0 0   0\n",
       "  14   0   0   0 0   0\n",
       "  16   0   0   0 0   0\n",
       "  17   0   0   0 0   0\n",
       "\n",
       ", , y = 3.2, class = 2, dist = 1.4142135623731\n",
       "\n",
       "    x\n",
       "sno  3.2 3.5 3.8 4 4.2\n",
       "  6    0   0   0 0   0\n",
       "  7    0   0   0 0   0\n",
       "  8    0   0   0 0   0\n",
       "  9    0   0   0 0   0\n",
       "  14   0   0   0 0   0\n",
       "  16   0   0   0 0   0\n",
       "  17   0   0   0 0   0\n",
       "\n",
       ", , y = 0.7, class = 3, dist = 1.4142135623731\n",
       "\n",
       "    x\n",
       "sno  3.2 3.5 3.8 4 4.2\n",
       "  6    0   0   0 0   0\n",
       "  7    0   0   0 0   0\n",
       "  8    0   0   0 0   0\n",
       "  9    0   0   0 0   0\n",
       "  14   0   0   0 0   0\n",
       "  16   0   0   0 0   0\n",
       "  17   0   0   0 0   0\n",
       "\n",
       ", , y = 1, class = 3, dist = 1.4142135623731\n",
       "\n",
       "    x\n",
       "sno  3.2 3.5 3.8 4 4.2\n",
       "  6    0   0   0 0   0\n",
       "  7    0   0   0 0   0\n",
       "  8    0   0   0 0   0\n",
       "  9    0   0   0 0   0\n",
       "  14   0   0   0 0   0\n",
       "  16   0   0   0 0   0\n",
       "  17   0   0   0 1   0\n",
       "\n",
       ", , y = 2.8, class = 3, dist = 1.4142135623731\n",
       "\n",
       "    x\n",
       "sno  3.2 3.5 3.8 4 4.2\n",
       "  6    0   0   0 0   0\n",
       "  7    0   0   0 0   0\n",
       "  8    0   0   0 0   0\n",
       "  9    0   0   0 0   0\n",
       "  14   0   0   0 0   0\n",
       "  16   0   0   0 0   0\n",
       "  17   0   0   0 0   0\n",
       "\n",
       ", , y = 3, class = 3, dist = 1.4142135623731\n",
       "\n",
       "    x\n",
       "sno  3.2 3.5 3.8 4 4.2\n",
       "  6    0   0   0 0   0\n",
       "  7    0   0   0 0   0\n",
       "  8    0   0   0 0   0\n",
       "  9    0   0   0 0   0\n",
       "  14   0   0   0 0   0\n",
       "  16   0   0   0 0   0\n",
       "  17   0   0   0 0   0\n",
       "\n",
       ", , y = 3.2, class = 3, dist = 1.4142135623731\n",
       "\n",
       "    x\n",
       "sno  3.2 3.5 3.8 4 4.2\n",
       "  6    0   0   0 0   0\n",
       "  7    0   0   0 0   0\n",
       "  8    0   0   0 0   0\n",
       "  9    0   0   0 0   0\n",
       "  14   0   0   0 0   0\n",
       "  16   0   0   0 0   0\n",
       "  17   0   0   0 0   0\n",
       "\n",
       ", , y = 0.7, class = 2, dist = 1.4422205101856\n",
       "\n",
       "    x\n",
       "sno  3.2 3.5 3.8 4 4.2\n",
       "  6    0   0   0 0   0\n",
       "  7    0   0   0 0   0\n",
       "  8    0   0   0 0   0\n",
       "  9    0   0   0 0   0\n",
       "  14   0   0   0 0   0\n",
       "  16   0   0   0 0   0\n",
       "  17   0   0   0 0   0\n",
       "\n",
       ", , y = 1, class = 2, dist = 1.4422205101856\n",
       "\n",
       "    x\n",
       "sno  3.2 3.5 3.8 4 4.2\n",
       "  6    0   0   0 0   0\n",
       "  7    0   0   0 0   0\n",
       "  8    0   0   0 0   0\n",
       "  9    0   0   0 0   0\n",
       "  14   0   0   0 0   0\n",
       "  16   0   0   0 0   0\n",
       "  17   0   0   0 0   0\n",
       "\n",
       ", , y = 2.8, class = 2, dist = 1.4422205101856\n",
       "\n",
       "    x\n",
       "sno  3.2 3.5 3.8 4 4.2\n",
       "  6    0   0   0 0   0\n",
       "  7    0   0   0 0   0\n",
       "  8    0   0   0 0   1\n",
       "  9    0   0   0 0   0\n",
       "  14   0   0   0 0   0\n",
       "  16   0   0   0 0   0\n",
       "  17   0   0   0 0   0\n",
       "\n",
       ", , y = 3, class = 2, dist = 1.4422205101856\n",
       "\n",
       "    x\n",
       "sno  3.2 3.5 3.8 4 4.2\n",
       "  6    0   0   0 0   0\n",
       "  7    0   0   0 0   0\n",
       "  8    0   0   0 0   0\n",
       "  9    0   0   0 0   0\n",
       "  14   0   0   0 0   0\n",
       "  16   0   0   0 0   0\n",
       "  17   0   0   0 0   0\n",
       "\n",
       ", , y = 3.2, class = 2, dist = 1.4422205101856\n",
       "\n",
       "    x\n",
       "sno  3.2 3.5 3.8 4 4.2\n",
       "  6    0   0   0 0   0\n",
       "  7    0   0   0 0   0\n",
       "  8    0   0   0 0   0\n",
       "  9    0   0   1 0   0\n",
       "  14   0   0   0 0   0\n",
       "  16   0   0   0 0   0\n",
       "  17   0   0   0 0   0\n",
       "\n",
       ", , y = 0.7, class = 3, dist = 1.4422205101856\n",
       "\n",
       "    x\n",
       "sno  3.2 3.5 3.8 4 4.2\n",
       "  6    0   0   0 0   0\n",
       "  7    0   0   0 0   0\n",
       "  8    0   0   0 0   0\n",
       "  9    0   0   0 0   0\n",
       "  14   0   0   0 0   0\n",
       "  16   0   0   0 0   0\n",
       "  17   0   0   0 0   0\n",
       "\n",
       ", , y = 1, class = 3, dist = 1.4422205101856\n",
       "\n",
       "    x\n",
       "sno  3.2 3.5 3.8 4 4.2\n",
       "  6    0   0   0 0   0\n",
       "  7    0   0   0 0   0\n",
       "  8    0   0   0 0   0\n",
       "  9    0   0   0 0   0\n",
       "  14   0   0   0 0   0\n",
       "  16   0   0   0 0   0\n",
       "  17   0   0   0 0   0\n",
       "\n",
       ", , y = 2.8, class = 3, dist = 1.4422205101856\n",
       "\n",
       "    x\n",
       "sno  3.2 3.5 3.8 4 4.2\n",
       "  6    0   0   0 0   0\n",
       "  7    0   0   0 0   0\n",
       "  8    0   0   0 0   0\n",
       "  9    0   0   0 0   0\n",
       "  14   0   0   0 0   0\n",
       "  16   0   0   0 0   0\n",
       "  17   0   0   0 0   0\n",
       "\n",
       ", , y = 3, class = 3, dist = 1.4422205101856\n",
       "\n",
       "    x\n",
       "sno  3.2 3.5 3.8 4 4.2\n",
       "  6    0   0   0 0   0\n",
       "  7    0   0   0 0   0\n",
       "  8    0   0   0 0   0\n",
       "  9    0   0   0 0   0\n",
       "  14   0   0   0 0   0\n",
       "  16   0   0   0 0   0\n",
       "  17   0   0   0 0   0\n",
       "\n",
       ", , y = 3.2, class = 3, dist = 1.4422205101856\n",
       "\n",
       "    x\n",
       "sno  3.2 3.5 3.8 4 4.2\n",
       "  6    0   0   0 0   0\n",
       "  7    0   0   0 0   0\n",
       "  8    0   0   0 0   0\n",
       "  9    0   0   0 0   0\n",
       "  14   0   0   0 0   0\n",
       "  16   0   0   0 0   0\n",
       "  17   0   0   0 0   0\n"
      ]
     },
     "metadata": {},
     "output_type": "display_data"
    }
   ],
   "source": [
    "table(d1)"
   ]
  },
  {
   "cell_type": "code",
   "execution_count": 25,
   "metadata": {
    "vscode": {
     "languageId": "r"
    }
   },
   "outputs": [
    {
     "data": {
      "text/html": [
       "<table class=\"dataframe\">\n",
       "<caption>A data.frame: 5 × 5</caption>\n",
       "<thead>\n",
       "\t<tr><th></th><th scope=col>sno</th><th scope=col>x</th><th scope=col>y</th><th scope=col>class</th><th scope=col>dist</th></tr>\n",
       "\t<tr><th></th><th scope=col>&lt;int&gt;</th><th scope=col>&lt;dbl&gt;</th><th scope=col>&lt;dbl&gt;</th><th scope=col>&lt;int&gt;</th><th scope=col>&lt;dbl&gt;</th></tr>\n",
       "</thead>\n",
       "<tbody>\n",
       "\t<tr><th scope=row>16</th><td>16</td><td>3.5</td><td>1.0</td><td>3</td><td>1.118034</td></tr>\n",
       "\t<tr><th scope=row>7</th><td> 7</td><td>3.8</td><td>2.8</td><td>2</td><td>1.131371</td></tr>\n",
       "\t<tr><th scope=row>14</th><td>14</td><td>3.2</td><td>0.7</td><td>3</td><td>1.315295</td></tr>\n",
       "\t<tr><th scope=row>6</th><td> 6</td><td>4.0</td><td>3.0</td><td>2</td><td>1.414214</td></tr>\n",
       "\t<tr><th scope=row>17</th><td>17</td><td>4.0</td><td>1.0</td><td>3</td><td>1.414214</td></tr>\n",
       "</tbody>\n",
       "</table>\n"
      ],
      "text/latex": [
       "A data.frame: 5 × 5\n",
       "\\begin{tabular}{r|lllll}\n",
       "  & sno & x & y & class & dist\\\\\n",
       "  & <int> & <dbl> & <dbl> & <int> & <dbl>\\\\\n",
       "\\hline\n",
       "\t16 & 16 & 3.5 & 1.0 & 3 & 1.118034\\\\\n",
       "\t7 &  7 & 3.8 & 2.8 & 2 & 1.131371\\\\\n",
       "\t14 & 14 & 3.2 & 0.7 & 3 & 1.315295\\\\\n",
       "\t6 &  6 & 4.0 & 3.0 & 2 & 1.414214\\\\\n",
       "\t17 & 17 & 4.0 & 1.0 & 3 & 1.414214\\\\\n",
       "\\end{tabular}\n"
      ],
      "text/markdown": [
       "\n",
       "A data.frame: 5 × 5\n",
       "\n",
       "| <!--/--> | sno &lt;int&gt; | x &lt;dbl&gt; | y &lt;dbl&gt; | class &lt;int&gt; | dist &lt;dbl&gt; |\n",
       "|---|---|---|---|---|---|\n",
       "| 16 | 16 | 3.5 | 1.0 | 3 | 1.118034 |\n",
       "| 7 |  7 | 3.8 | 2.8 | 2 | 1.131371 |\n",
       "| 14 | 14 | 3.2 | 0.7 | 3 | 1.315295 |\n",
       "| 6 |  6 | 4.0 | 3.0 | 2 | 1.414214 |\n",
       "| 17 | 17 | 4.0 | 1.0 | 3 | 1.414214 |\n",
       "\n"
      ],
      "text/plain": [
       "   sno x   y   class dist    \n",
       "16 16  3.5 1.0 3     1.118034\n",
       "7   7  3.8 2.8 2     1.131371\n",
       "14 14  3.2 0.7 3     1.315295\n",
       "6   6  4.0 3.0 2     1.414214\n",
       "17 17  4.0 1.0 3     1.414214"
      ]
     },
     "metadata": {},
     "output_type": "display_data"
    }
   ],
   "source": [
    "df <- f[1:5,]\n",
    "df"
   ]
  },
  {
   "cell_type": "code",
   "execution_count": 26,
   "metadata": {
    "vscode": {
     "languageId": "r"
    }
   },
   "outputs": [
    {
     "data": {
      "text/html": [
       "1.4142135623731"
      ],
      "text/latex": [
       "1.4142135623731"
      ],
      "text/markdown": [
       "1.4142135623731"
      ],
      "text/plain": [
       "[1] 1.414214"
      ]
     },
     "metadata": {},
     "output_type": "display_data"
    },
    {
     "data": {
      "text/html": [
       "1.11803398874989"
      ],
      "text/latex": [
       "1.11803398874989"
      ],
      "text/markdown": [
       "1.11803398874989"
      ],
      "text/plain": [
       "[1] 1.118034"
      ]
     },
     "metadata": {},
     "output_type": "display_data"
    }
   ],
   "source": [
    "dk <- df[5,5]\n",
    "dk\n",
    "d1 <- df[1,5]\n",
    "d1"
   ]
  },
  {
   "cell_type": "code",
   "execution_count": 27,
   "metadata": {
    "vscode": {
     "languageId": "r"
    }
   },
   "outputs": [
    {
     "data": {
      "text/html": [
       "<style>\n",
       ".list-inline {list-style: none; margin:0; padding: 0}\n",
       ".list-inline>li {display: inline-block}\n",
       ".list-inline>li:not(:last-child)::after {content: \"\\00b7\"; padding: 0 .5ex}\n",
       "</style>\n",
       "<ol class=list-inline><li>1</li><li>0.954970354689118</li><li>0.333982919100117</li><li>0</li><li>0</li></ol>\n"
      ],
      "text/latex": [
       "\\begin{enumerate*}\n",
       "\\item 1\n",
       "\\item 0.954970354689118\n",
       "\\item 0.333982919100117\n",
       "\\item 0\n",
       "\\item 0\n",
       "\\end{enumerate*}\n"
      ],
      "text/markdown": [
       "1. 1\n",
       "2. 0.954970354689118\n",
       "3. 0.333982919100117\n",
       "4. 0\n",
       "5. 0\n",
       "\n",
       "\n"
      ],
      "text/plain": [
       "[1] 1.0000000 0.9549704 0.3339829 0.0000000 0.0000000"
      ]
     },
     "metadata": {},
     "output_type": "display_data"
    }
   ],
   "source": [
    "weight <- (dk - df$dist) / (dk - d1)\n",
    "weight"
   ]
  },
  {
   "cell_type": "code",
   "execution_count": 28,
   "metadata": {
    "vscode": {
     "languageId": "r"
    }
   },
   "outputs": [
    {
     "data": {
      "text/html": [
       "<table class=\"dataframe\">\n",
       "<caption>A data.frame: 5 × 6</caption>\n",
       "<thead>\n",
       "\t<tr><th></th><th scope=col>sno</th><th scope=col>x</th><th scope=col>y</th><th scope=col>class</th><th scope=col>dist</th><th scope=col>weight</th></tr>\n",
       "\t<tr><th></th><th scope=col>&lt;int&gt;</th><th scope=col>&lt;dbl&gt;</th><th scope=col>&lt;dbl&gt;</th><th scope=col>&lt;int&gt;</th><th scope=col>&lt;dbl&gt;</th><th scope=col>&lt;dbl&gt;</th></tr>\n",
       "</thead>\n",
       "<tbody>\n",
       "\t<tr><th scope=row>16</th><td>16</td><td>3.5</td><td>1.0</td><td>3</td><td>1.118034</td><td>1.0000000</td></tr>\n",
       "\t<tr><th scope=row>7</th><td> 7</td><td>3.8</td><td>2.8</td><td>2</td><td>1.131371</td><td>0.9549704</td></tr>\n",
       "\t<tr><th scope=row>14</th><td>14</td><td>3.2</td><td>0.7</td><td>3</td><td>1.315295</td><td>0.3339829</td></tr>\n",
       "\t<tr><th scope=row>6</th><td> 6</td><td>4.0</td><td>3.0</td><td>2</td><td>1.414214</td><td>0.0000000</td></tr>\n",
       "\t<tr><th scope=row>17</th><td>17</td><td>4.0</td><td>1.0</td><td>3</td><td>1.414214</td><td>0.0000000</td></tr>\n",
       "</tbody>\n",
       "</table>\n"
      ],
      "text/latex": [
       "A data.frame: 5 × 6\n",
       "\\begin{tabular}{r|llllll}\n",
       "  & sno & x & y & class & dist & weight\\\\\n",
       "  & <int> & <dbl> & <dbl> & <int> & <dbl> & <dbl>\\\\\n",
       "\\hline\n",
       "\t16 & 16 & 3.5 & 1.0 & 3 & 1.118034 & 1.0000000\\\\\n",
       "\t7 &  7 & 3.8 & 2.8 & 2 & 1.131371 & 0.9549704\\\\\n",
       "\t14 & 14 & 3.2 & 0.7 & 3 & 1.315295 & 0.3339829\\\\\n",
       "\t6 &  6 & 4.0 & 3.0 & 2 & 1.414214 & 0.0000000\\\\\n",
       "\t17 & 17 & 4.0 & 1.0 & 3 & 1.414214 & 0.0000000\\\\\n",
       "\\end{tabular}\n"
      ],
      "text/markdown": [
       "\n",
       "A data.frame: 5 × 6\n",
       "\n",
       "| <!--/--> | sno &lt;int&gt; | x &lt;dbl&gt; | y &lt;dbl&gt; | class &lt;int&gt; | dist &lt;dbl&gt; | weight &lt;dbl&gt; |\n",
       "|---|---|---|---|---|---|---|\n",
       "| 16 | 16 | 3.5 | 1.0 | 3 | 1.118034 | 1.0000000 |\n",
       "| 7 |  7 | 3.8 | 2.8 | 2 | 1.131371 | 0.9549704 |\n",
       "| 14 | 14 | 3.2 | 0.7 | 3 | 1.315295 | 0.3339829 |\n",
       "| 6 |  6 | 4.0 | 3.0 | 2 | 1.414214 | 0.0000000 |\n",
       "| 17 | 17 | 4.0 | 1.0 | 3 | 1.414214 | 0.0000000 |\n",
       "\n"
      ],
      "text/plain": [
       "   sno x   y   class dist     weight   \n",
       "16 16  3.5 1.0 3     1.118034 1.0000000\n",
       "7   7  3.8 2.8 2     1.131371 0.9549704\n",
       "14 14  3.2 0.7 3     1.315295 0.3339829\n",
       "6   6  4.0 3.0 2     1.414214 0.0000000\n",
       "17 17  4.0 1.0 3     1.414214 0.0000000"
      ]
     },
     "metadata": {},
     "output_type": "display_data"
    }
   ],
   "source": [
    "df <- cbind(df,weight)\n",
    "df"
   ]
  },
  {
   "cell_type": "code",
   "execution_count": 29,
   "metadata": {
    "vscode": {
     "languageId": "r"
    }
   },
   "outputs": [
    {
     "name": "stdout",
     "output_type": "stream",
     "text": [
      "class of P for M-KNN with n=5 is 3"
     ]
    }
   ],
   "source": [
    "# MKNN n=5\n",
    "\n",
    "l1 <- sum(df$class == 1)\n",
    "\n",
    "l2 <- sum(df$class == 2)\n",
    "\n",
    "l3 <- sum(df$class == 3)\n",
    "\n",
    "if(l3 > l2 && l3 > l1)\n",
    "cat(\"class of P for M-KNN with n=5 is 3\")\n",
    "if(l2 > l3 && l2 > l1)\n",
    "cat(\"class of P for M-KNN with n=5 is 2\")\n",
    "if(l1 > l2 && l1 > l2)\n",
    "cat(\"class of P for M-KNN with n=5 is 1\")"
   ]
  },
  {
   "cell_type": "code",
   "execution_count": null,
   "metadata": {
    "vscode": {
     "languageId": "r"
    }
   },
   "outputs": [],
   "source": []
  },
  {
   "cell_type": "code",
   "execution_count": null,
   "metadata": {
    "vscode": {
     "languageId": "r"
    }
   },
   "outputs": [],
   "source": []
  }
 ],
 "metadata": {
  "kernelspec": {
   "display_name": "R",
   "language": "R",
   "name": "ir"
  },
  "language_info": {
   "codemirror_mode": "r",
   "file_extension": ".r",
   "mimetype": "text/x-r-source",
   "name": "R",
   "pygments_lexer": "r",
   "version": "4.0.4"
  }
 },
 "nbformat": 4,
 "nbformat_minor": 2
}
