{
 "cells": [
  {
   "cell_type": "code",
   "execution_count": 1,
   "metadata": {
    "vscode": {
     "languageId": "r"
    }
   },
   "outputs": [
    {
     "name": "stderr",
     "output_type": "stream",
     "text": [
      "Installing package into ‘/home/ziegler/R/x86_64-pc-linux-gnu-library/4.0’\n",
      "(as ‘lib’ is unspecified)\n",
      "\n",
      "also installing the dependencies ‘parallelly’, ‘future’, ‘globals’, ‘spiderbar’, ‘future.apply’\n",
      "\n",
      "\n"
     ]
    }
   ],
   "source": [
    "install.packages(\"robotstxt\")"
   ]
  },
  {
   "cell_type": "code",
   "execution_count": 2,
   "metadata": {
    "vscode": {
     "languageId": "r"
    }
   },
   "outputs": [
    {
     "name": "stderr",
     "output_type": "stream",
     "text": [
      " www.imdb.com                      \n",
      "\n",
      "\n",
      "\n"
     ]
    },
    {
     "data": {
      "text/html": [
       "TRUE"
      ],
      "text/latex": [
       "TRUE"
      ],
      "text/markdown": [
       "TRUE"
      ],
      "text/plain": [
       "[1] TRUE"
      ]
     },
     "metadata": {},
     "output_type": "display_data"
    }
   ],
   "source": [
    "library(robotstxt)\n",
    "paths_allowed(\"http://www.imdb.com\")"
   ]
  },
  {
   "cell_type": "code",
   "execution_count": 3,
   "metadata": {
    "vscode": {
     "languageId": "r"
    }
   },
   "outputs": [
    {
     "name": "stderr",
     "output_type": "stream",
     "text": [
      " www.facebook.com                      \n",
      "\n",
      "\n",
      "\n"
     ]
    },
    {
     "data": {
      "text/html": [
       "FALSE"
      ],
      "text/latex": [
       "FALSE"
      ],
      "text/markdown": [
       "FALSE"
      ],
      "text/plain": [
       "[1] FALSE"
      ]
     },
     "metadata": {},
     "output_type": "display_data"
    }
   ],
   "source": [
    "paths_allowed(\"http://www.facebook.com\")"
   ]
  },
  {
   "cell_type": "code",
   "execution_count": 17,
   "metadata": {
    "vscode": {
     "languageId": "r"
    }
   },
   "outputs": [
    {
     "name": "stdout",
     "output_type": "stream",
     "text": [
      "{html_document}\n",
      "<html lang=\"en-US\" xmlns:og=\"http://opengraphprotocol.org/schema/\" xmlns:fb=\"http://www.facebook.com/2008/fbml\">\n",
      "[1] <head>\\n<meta http-equiv=\"Content-Type\" content=\"text/html; charset=UTF-8 ...\n",
      "[2] <body>\\n<div>    <img height=\"1\" width=\"1\" style=\"display:none;visibility ...\n"
     ]
    },
    {
     "ename": "ERROR",
     "evalue": "\u001b[1m\u001b[33mError\u001b[39m in `tibble()`:\u001b[22m\n\u001b[1m\u001b[22m\u001b[33m!\u001b[39m Tibble columns must have compatible sizes.\n\u001b[36m•\u001b[39m Size 263: Existing data.\n\u001b[36m•\u001b[39m Size 0: Column `year`.\n\u001b[36mℹ\u001b[39m Only values of size one are recycled.\n",
     "output_type": "error",
     "traceback": [
      "\u001b[1m\u001b[33mError\u001b[39m in `tibble()`:\u001b[22m\n\u001b[1m\u001b[22m\u001b[33m!\u001b[39m Tibble columns must have compatible sizes.\n\u001b[36m•\u001b[39m Size 263: Existing data.\n\u001b[36m•\u001b[39m Size 0: Column `year`.\n\u001b[36mℹ\u001b[39m Only values of size one are recycled.\nTraceback:\n",
      "1. tibble(title = titles, year = years, score = scores)",
      "2. tibble_quos(xs, .rows, .name_repair)",
      "3. vectbl_recycle_rows(res, first_size, j, given_col_names[[j]], \n .     call)",
      "4. abort_incompatible_size(n, name, size, \"Existing data\", call)",
      "5. tibble_abort(call = call, bullets(\"Tibble columns must have compatible sizes:\", \n .     if (!is.null(.rows)) paste0(\"Size \", .rows, \": \", rows_source), \n .     problems, info = \"Only values of size one are recycled.\"))",
      "6. abort(x, class, ..., call = call, parent = parent, use_cli_format = TRUE)",
      "7. signal_abort(cnd, .file)"
     ]
    }
   ],
   "source": [
    "library(rvest)\n",
    "library(stringr)\n",
    "library(tibble)\n",
    "page <- read_html(\"https://www.imdb.com/chart/top\")\n",
    "print(page)\n",
    "titles <- page %>%\n",
    "    html_nodes(\".ipc-title__text\") %>%\n",
    "    html_text()\n",
    "\n",
    "years <- page %>%\n",
    "    html_nodes(\".cli-title-metadata-item\") %>%\n",
    "    html_text() %>%\n",
    "    str_replace(\"\\\\(\", \"\") %>% # remove (\n",
    "    str_replace(\"\\\\)\", \"\") %>% # remove )\n",
    "    as.numeric()\n",
    "\n",
    "scores <- page %>%\n",
    "    html_nodes(\".ipc-rating-star ipc-rating-star--base ipc-rating-star--imdb ratingGroup--imdb-rating\") %>%\n",
    "    html_text() %>%\n",
    "    as.numeric()\n",
    "\n",
    "imdb_top_250 <- tibble(\n",
    "    title = titles,\n",
    "    year = years,\n",
    "    score = scores\n",
    "    )"
   ]
  },
  {
   "cell_type": "code",
   "execution_count": 15,
   "metadata": {
    "vscode": {
     "languageId": "r"
    }
   },
   "outputs": [
    {
     "name": "stdout",
     "output_type": "stream",
     "text": [
      "Rows: 263\n",
      "Columns: 1\n",
      "$ title \u001b[3m\u001b[90m<chr>\u001b[39m\u001b[23m \"IMDb Charts\", \"IMDb Top 250 Movies\", \"1. The Shawshank Redempti…\n"
     ]
    }
   ],
   "source": [
    "glimpse(imdb_top_250)"
   ]
  },
  {
   "cell_type": "code",
   "execution_count": null,
   "metadata": {
    "vscode": {
     "languageId": "r"
    }
   },
   "outputs": [],
   "source": [
    "# var for rank\n",
    "imdb_top_250 <- imdb_top_250 %>%\n",
    "mutate(\n",
    "rank = 1:nrow(imdb_top_250)\n",
    ")"
   ]
  },
  {
   "cell_type": "code",
   "execution_count": 13,
   "metadata": {
    "vscode": {
     "languageId": "r"
    }
   },
   "outputs": [
    {
     "name": "stderr",
     "output_type": "stream",
     "text": [
      "\n",
      "Attaching package: ‘dplyr’\n",
      "\n",
      "\n",
      "The following objects are masked from ‘package:stats’:\n",
      "\n",
      "    filter, lag\n",
      "\n",
      "\n",
      "The following objects are masked from ‘package:base’:\n",
      "\n",
      "    intersect, setdiff, setequal, union\n",
      "\n",
      "\n"
     ]
    },
    {
     "name": "stdout",
     "output_type": "stream",
     "text": [
      "     Title Year Rating\n",
      "NA    <NA> <NA>   <NA>\n",
      "NA.1  <NA> <NA>   <NA>\n",
      "NA.2  <NA> <NA>   <NA>\n",
      "NA.3  <NA> <NA>   <NA>\n",
      "NA.4  <NA> <NA>   <NA>\n",
      "NA.5  <NA> <NA>   <NA>\n",
      "NA.6  <NA> <NA>   <NA>\n",
      "NA.7  <NA> <NA>   <NA>\n",
      "NA.8  <NA> <NA>   <NA>\n",
      "NA.9  <NA> <NA>   <NA>\n"
     ]
    }
   ],
   "source": [
    "# Load necessary libraries\n",
    "library(rvest)\n",
    "library(dplyr)\n",
    "\n",
    "# Specify the URL of IMDb's Top Rated Movies page\n",
    "url <- \"https://www.imdb.com/chart/top/\"\n",
    "\n",
    "# Read the HTML content of the webpage\n",
    "page <- read_html(url)\n",
    "\n",
    "# Extract movie titles\n",
    "titles <- page %>%\n",
    "  html_nodes(\".titleColumn a\") %>%\n",
    "  html_text()\n",
    "\n",
    "# Extract movie years\n",
    "years <- page %>%\n",
    "  html_nodes(\".titleColumn span.secondaryInfo\") %>%\n",
    "  html_text() %>%\n",
    "  gsub(\"[()]\", \"\", .)  # Remove parentheses from the extracted text\n",
    "\n",
    "# Extract IMDb ratings\n",
    "ratings <- page %>%\n",
    "  html_nodes(\".ratingColumn strong\") %>%\n",
    "  html_text()\n",
    "\n",
    "# Combine the extracted data into a data frame\n",
    "top_250 <- data.frame(\n",
    "  Title = titles,\n",
    "  Year = years,\n",
    "  Rating = ratings\n",
    ")\n",
    "\n",
    "# Print the top 10 rows of the data frame (you can adjust as needed)\n",
    "print(top_250[1:10, ])\n"
   ]
  },
  {
   "cell_type": "code",
   "execution_count": null,
   "metadata": {
    "vscode": {
     "languageId": "r"
    }
   },
   "outputs": [],
   "source": []
  }
 ],
 "metadata": {
  "kernelspec": {
   "display_name": "R",
   "language": "R",
   "name": "ir"
  },
  "language_info": {
   "codemirror_mode": "r",
   "file_extension": ".r",
   "mimetype": "text/x-r-source",
   "name": "R",
   "pygments_lexer": "r",
   "version": "4.0.4"
  }
 },
 "nbformat": 4,
 "nbformat_minor": 2
}
