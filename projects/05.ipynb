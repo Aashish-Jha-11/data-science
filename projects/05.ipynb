{
 "cells": [
  {
   "cell_type": "markdown",
   "metadata": {},
   "source": [
    "# Hypothesis Testing"
   ]
  },
  {
   "cell_type": "markdown",
   "metadata": {},
   "source": [
    "Suppose the manufacturer claims that the mean lifetime of a ball bearing is 10000hours. The auditing team stated that the mean lifetime is less than what is claimed. On the basis of a randomly chosen sample of 50 ball bearings as given in the dataset, at 0.05 significance level, can we reject the claim of the manufacturer? What will be your interpretation if the significance level is made as 0.01? Consider the data set titled “Hypothesis_csv1.csv”."
   ]
  },
  {
   "cell_type": "markdown",
   "metadata": {},
   "source": [
    "The nutrition label on a bag of potato chips says that a one ounce (28 gram) serving of potato chips has 130 calories and contains ten grams of fat, with three grams of saturated fat. A random sample of 35 bags yielded a sample mean of 134 calories with a standard deviation of 17 calories. Is there evidence that the nutrition label does not provide an accurate measure of calories in the bags of potato chips? We have verified the independence, sample size, and skew conditions are satisfied. Take alpha as 5% and 1%."
   ]
  },
  {
   "cell_type": "markdown",
   "metadata": {},
   "source": [
    "display mean\n",
    "\n",
    "display std dev\n",
    "p value\n",
    "2 statement s for a = 0.05 and a = 0.01"
   ]
  },
  {
   "cell_type": "markdown",
   "metadata": {},
   "source": [
    "if p vval < 0.05\n",
    "print(\"rejected)\n",
    "\n",
    "else \n",
    "not rejected"
   ]
  },
  {
   "cell_type": "code",
   "execution_count": 2,
   "metadata": {
    "vscode": {
     "languageId": "r"
    }
   },
   "outputs": [],
   "source": [
    "h0 <- 100\n",
    "hh <- \"LEss than 100\"\n"
   ]
  },
  {
   "cell_type": "code",
   "execution_count": 3,
   "metadata": {
    "vscode": {
     "languageId": "r"
    }
   },
   "outputs": [
    {
     "data": {
      "text/html": [
       "<table class=\"dataframe\">\n",
       "<caption>A data.frame: 50 × 2</caption>\n",
       "<thead>\n",
       "\t<tr><th scope=col>SNO</th><th scope=col>Life_Hrs</th></tr>\n",
       "\t<tr><th scope=col>&lt;int&gt;</th><th scope=col>&lt;dbl&gt;</th></tr>\n",
       "</thead>\n",
       "<tbody>\n",
       "\t<tr><td> 1</td><td> 9859.01</td></tr>\n",
       "\t<tr><td> 2</td><td>10111.94</td></tr>\n",
       "\t<tr><td> 3</td><td>10023.41</td></tr>\n",
       "\t<tr><td> 4</td><td> 9770.15</td></tr>\n",
       "\t<tr><td> 5</td><td>10158.63</td></tr>\n",
       "\t<tr><td> 6</td><td> 9639.62</td></tr>\n",
       "\t<tr><td> 7</td><td>10055.09</td></tr>\n",
       "\t<tr><td> 8</td><td>10095.38</td></tr>\n",
       "\t<tr><td> 9</td><td> 9990.29</td></tr>\n",
       "\t<tr><td>10</td><td> 9883.86</td></tr>\n",
       "\t<tr><td>11</td><td>10071.64</td></tr>\n",
       "\t<tr><td>12</td><td> 9685.03</td></tr>\n",
       "\t<tr><td>13</td><td> 9897.37</td></tr>\n",
       "\t<tr><td>14</td><td> 9918.80</td></tr>\n",
       "\t<tr><td>15</td><td> 9948.09</td></tr>\n",
       "\t<tr><td>16</td><td> 9963.22</td></tr>\n",
       "\t<tr><td>17</td><td> 9932.52</td></tr>\n",
       "\t<tr><td>18</td><td> 9775.70</td></tr>\n",
       "\t<tr><td>19</td><td>10098.47</td></tr>\n",
       "\t<tr><td>20</td><td> 9870.34</td></tr>\n",
       "\t<tr><td>21</td><td>10031.14</td></tr>\n",
       "\t<tr><td>22</td><td> 9992.01</td></tr>\n",
       "\t<tr><td>23</td><td>10037.81</td></tr>\n",
       "\t<tr><td>24</td><td>10065.94</td></tr>\n",
       "\t<tr><td>25</td><td> 9903.96</td></tr>\n",
       "\t<tr><td>26</td><td>10134.47</td></tr>\n",
       "\t<tr><td>27</td><td>10007.85</td></tr>\n",
       "\t<tr><td>28</td><td> 9810.02</td></tr>\n",
       "\t<tr><td>29</td><td>10142.73</td></tr>\n",
       "\t<tr><td>30</td><td> 9824.97</td></tr>\n",
       "\t<tr><td>31</td><td>10023.30</td></tr>\n",
       "\t<tr><td>32</td><td>10109.40</td></tr>\n",
       "\t<tr><td>33</td><td> 9788.34</td></tr>\n",
       "\t<tr><td>34</td><td> 9833.43</td></tr>\n",
       "\t<tr><td>35</td><td> 9992.57</td></tr>\n",
       "\t<tr><td>36</td><td>10020.62</td></tr>\n",
       "\t<tr><td>37</td><td>10083.13</td></tr>\n",
       "\t<tr><td>38</td><td>10022.64</td></tr>\n",
       "\t<tr><td>39</td><td> 9861.12</td></tr>\n",
       "\t<tr><td>40</td><td>10001.23</td></tr>\n",
       "\t<tr><td>41</td><td> 9937.17</td></tr>\n",
       "\t<tr><td>42</td><td>10084.14</td></tr>\n",
       "\t<tr><td>43</td><td> 9905.46</td></tr>\n",
       "\t<tr><td>44</td><td>10065.08</td></tr>\n",
       "\t<tr><td>45</td><td>10050.98</td></tr>\n",
       "\t<tr><td>46</td><td> 9641.05</td></tr>\n",
       "\t<tr><td>47</td><td> 9883.92</td></tr>\n",
       "\t<tr><td>48</td><td>10199.71</td></tr>\n",
       "\t<tr><td>49</td><td>10033.67</td></tr>\n",
       "\t<tr><td>50</td><td>10013.62</td></tr>\n",
       "</tbody>\n",
       "</table>\n"
      ],
      "text/latex": [
       "A data.frame: 50 × 2\n",
       "\\begin{tabular}{ll}\n",
       " SNO & Life\\_Hrs\\\\\n",
       " <int> & <dbl>\\\\\n",
       "\\hline\n",
       "\t  1 &  9859.01\\\\\n",
       "\t  2 & 10111.94\\\\\n",
       "\t  3 & 10023.41\\\\\n",
       "\t  4 &  9770.15\\\\\n",
       "\t  5 & 10158.63\\\\\n",
       "\t  6 &  9639.62\\\\\n",
       "\t  7 & 10055.09\\\\\n",
       "\t  8 & 10095.38\\\\\n",
       "\t  9 &  9990.29\\\\\n",
       "\t 10 &  9883.86\\\\\n",
       "\t 11 & 10071.64\\\\\n",
       "\t 12 &  9685.03\\\\\n",
       "\t 13 &  9897.37\\\\\n",
       "\t 14 &  9918.80\\\\\n",
       "\t 15 &  9948.09\\\\\n",
       "\t 16 &  9963.22\\\\\n",
       "\t 17 &  9932.52\\\\\n",
       "\t 18 &  9775.70\\\\\n",
       "\t 19 & 10098.47\\\\\n",
       "\t 20 &  9870.34\\\\\n",
       "\t 21 & 10031.14\\\\\n",
       "\t 22 &  9992.01\\\\\n",
       "\t 23 & 10037.81\\\\\n",
       "\t 24 & 10065.94\\\\\n",
       "\t 25 &  9903.96\\\\\n",
       "\t 26 & 10134.47\\\\\n",
       "\t 27 & 10007.85\\\\\n",
       "\t 28 &  9810.02\\\\\n",
       "\t 29 & 10142.73\\\\\n",
       "\t 30 &  9824.97\\\\\n",
       "\t 31 & 10023.30\\\\\n",
       "\t 32 & 10109.40\\\\\n",
       "\t 33 &  9788.34\\\\\n",
       "\t 34 &  9833.43\\\\\n",
       "\t 35 &  9992.57\\\\\n",
       "\t 36 & 10020.62\\\\\n",
       "\t 37 & 10083.13\\\\\n",
       "\t 38 & 10022.64\\\\\n",
       "\t 39 &  9861.12\\\\\n",
       "\t 40 & 10001.23\\\\\n",
       "\t 41 &  9937.17\\\\\n",
       "\t 42 & 10084.14\\\\\n",
       "\t 43 &  9905.46\\\\\n",
       "\t 44 & 10065.08\\\\\n",
       "\t 45 & 10050.98\\\\\n",
       "\t 46 &  9641.05\\\\\n",
       "\t 47 &  9883.92\\\\\n",
       "\t 48 & 10199.71\\\\\n",
       "\t 49 & 10033.67\\\\\n",
       "\t 50 & 10013.62\\\\\n",
       "\\end{tabular}\n"
      ],
      "text/markdown": [
       "\n",
       "A data.frame: 50 × 2\n",
       "\n",
       "| SNO &lt;int&gt; | Life_Hrs &lt;dbl&gt; |\n",
       "|---|---|\n",
       "|  1 |  9859.01 |\n",
       "|  2 | 10111.94 |\n",
       "|  3 | 10023.41 |\n",
       "|  4 |  9770.15 |\n",
       "|  5 | 10158.63 |\n",
       "|  6 |  9639.62 |\n",
       "|  7 | 10055.09 |\n",
       "|  8 | 10095.38 |\n",
       "|  9 |  9990.29 |\n",
       "| 10 |  9883.86 |\n",
       "| 11 | 10071.64 |\n",
       "| 12 |  9685.03 |\n",
       "| 13 |  9897.37 |\n",
       "| 14 |  9918.80 |\n",
       "| 15 |  9948.09 |\n",
       "| 16 |  9963.22 |\n",
       "| 17 |  9932.52 |\n",
       "| 18 |  9775.70 |\n",
       "| 19 | 10098.47 |\n",
       "| 20 |  9870.34 |\n",
       "| 21 | 10031.14 |\n",
       "| 22 |  9992.01 |\n",
       "| 23 | 10037.81 |\n",
       "| 24 | 10065.94 |\n",
       "| 25 |  9903.96 |\n",
       "| 26 | 10134.47 |\n",
       "| 27 | 10007.85 |\n",
       "| 28 |  9810.02 |\n",
       "| 29 | 10142.73 |\n",
       "| 30 |  9824.97 |\n",
       "| 31 | 10023.30 |\n",
       "| 32 | 10109.40 |\n",
       "| 33 |  9788.34 |\n",
       "| 34 |  9833.43 |\n",
       "| 35 |  9992.57 |\n",
       "| 36 | 10020.62 |\n",
       "| 37 | 10083.13 |\n",
       "| 38 | 10022.64 |\n",
       "| 39 |  9861.12 |\n",
       "| 40 | 10001.23 |\n",
       "| 41 |  9937.17 |\n",
       "| 42 | 10084.14 |\n",
       "| 43 |  9905.46 |\n",
       "| 44 | 10065.08 |\n",
       "| 45 | 10050.98 |\n",
       "| 46 |  9641.05 |\n",
       "| 47 |  9883.92 |\n",
       "| 48 | 10199.71 |\n",
       "| 49 | 10033.67 |\n",
       "| 50 | 10013.62 |\n",
       "\n"
      ],
      "text/plain": [
       "   SNO Life_Hrs\n",
       "1   1   9859.01\n",
       "2   2  10111.94\n",
       "3   3  10023.41\n",
       "4   4   9770.15\n",
       "5   5  10158.63\n",
       "6   6   9639.62\n",
       "7   7  10055.09\n",
       "8   8  10095.38\n",
       "9   9   9990.29\n",
       "10 10   9883.86\n",
       "11 11  10071.64\n",
       "12 12   9685.03\n",
       "13 13   9897.37\n",
       "14 14   9918.80\n",
       "15 15   9948.09\n",
       "16 16   9963.22\n",
       "17 17   9932.52\n",
       "18 18   9775.70\n",
       "19 19  10098.47\n",
       "20 20   9870.34\n",
       "21 21  10031.14\n",
       "22 22   9992.01\n",
       "23 23  10037.81\n",
       "24 24  10065.94\n",
       "25 25   9903.96\n",
       "26 26  10134.47\n",
       "27 27  10007.85\n",
       "28 28   9810.02\n",
       "29 29  10142.73\n",
       "30 30   9824.97\n",
       "31 31  10023.30\n",
       "32 32  10109.40\n",
       "33 33   9788.34\n",
       "34 34   9833.43\n",
       "35 35   9992.57\n",
       "36 36  10020.62\n",
       "37 37  10083.13\n",
       "38 38  10022.64\n",
       "39 39   9861.12\n",
       "40 40  10001.23\n",
       "41 41   9937.17\n",
       "42 42  10084.14\n",
       "43 43   9905.46\n",
       "44 44  10065.08\n",
       "45 45  10050.98\n",
       "46 46   9641.05\n",
       "47 47   9883.92\n",
       "48 48  10199.71\n",
       "49 49  10033.67\n",
       "50 50  10013.62"
      ]
     },
     "metadata": {},
     "output_type": "display_data"
    }
   ],
   "source": [
    "f <- read.csv(\"../datasets/Hypothesis_csv1.csv\")\n",
    "f"
   ]
  },
  {
   "cell_type": "code",
   "execution_count": null,
   "metadata": {
    "vscode": {
     "languageId": "r"
    }
   },
   "outputs": [],
   "source": []
  },
  {
   "cell_type": "code",
   "execution_count": 5,
   "metadata": {
    "vscode": {
     "languageId": "r"
    }
   },
   "outputs": [],
   "source": []
  },
  {
   "cell_type": "code",
   "execution_count": 6,
   "metadata": {
    "vscode": {
     "languageId": "r"
    }
   },
   "outputs": [],
   "source": []
  },
  {
   "cell_type": "code",
   "execution_count": null,
   "metadata": {
    "vscode": {
     "languageId": "r"
    }
   },
   "outputs": [],
   "source": []
  },
  {
   "cell_type": "code",
   "execution_count": null,
   "metadata": {
    "vscode": {
     "languageId": "r"
    }
   },
   "outputs": [],
   "source": []
  },
  {
   "cell_type": "code",
   "execution_count": 11,
   "metadata": {
    "vscode": {
     "languageId": "r"
    }
   },
   "outputs": [
    {
     "name": "stdout",
     "output_type": "stream",
     "text": [
      "Sample Mean: 9965.001 \n",
      "Test Statistic (z-score): -1.872394 \n",
      "p-value: 0.03057603 \n",
      "At 0.05 significance level:\n",
      "Reject the null hypothesis.\n",
      "At 0.01 significance level:\n",
      "Don't reject the null hypothesis.\n"
     ]
    }
   ],
   "source": [
    "# Read the dataset\n",
    "data <- read.csv(\"../datasets/Hypothesis_csv1.csv\")\n",
    "\n",
    "# Given data\n",
    "sample_mean <- mean(data$Life_Hrs)\n",
    "sample_size <- length(data$Life_Hrs)\n",
    "population_mean <- 10000\n",
    "population_sd <- sd(data$Life_Hrs)\n",
    "\n",
    "# Compute the test statistic\n",
    "z_score <- (sample_mean - population_mean) / (population_sd / sqrt(sample_size))\n",
    "\n",
    "# Compute the p-value\n",
    "p_value <- pnorm(z_score)\n",
    "\n",
    "# 0.05 significance level\n",
    "alpha_1 <- 0.05\n",
    "critical_value_1 <- qnorm(alpha_1)\n",
    "\n",
    "# 0.01 significance level\n",
    "alpha_2 <- 0.01\n",
    "critical_value_2 <- qnorm(alpha_2)\n",
    "\n",
    "# Print results\n",
    "cat(\"Sample Mean:\", sample_mean, \"\\n\")\n",
    "cat(\"Test Statistic (z-score):\", z_score, \"\\n\")\n",
    "cat(\"p-value:\", p_value, \"\\n\")\n",
    "\n",
    "# Decision for 0.05 significance level\n",
    "cat(\"At 0.05 significance level:\\n\")\n",
    "if (p_value < alpha_1) {\n",
    "  cat(\"Reject the null hypothesis.\\n\")\n",
    "} else {\n",
    "  cat(\"Don't reject the null hypothesis.\\n\")\n",
    "}\n",
    "\n",
    "# Decision for 0.01 significance level\n",
    "cat(\"At 0.01 significance level:\\n\")\n",
    "if (p_value < alpha_2) {\n",
    "  cat(\"Reject the null hypothesis.\\n\")\n",
    "} else {\n",
    "  cat(\"Don't reject the null hypothesis.\\n\")\n",
    "}\n"
   ]
  },
  {
   "cell_type": "code",
   "execution_count": 12,
   "metadata": {
    "vscode": {
     "languageId": "r"
    }
   },
   "outputs": [
    {
     "name": "stdout",
     "output_type": "stream",
     "text": [
      "Test Statistic (z-score): 1.392019 \n",
      "p-value: 0.9180416 \n",
      "At 0.05 significance level:\n",
      "Don't reject the null hypothesis.\n",
      "At 0.01 significance level:\n"
     ]
    },
    {
     "name": "stdout",
     "output_type": "stream",
     "text": [
      "Don't reject the null hypothesis.\n"
     ]
    }
   ],
   "source": [
    "# Given data\n",
    "sample_mean <- 134\n",
    "sample_sd <- 17\n",
    "population_mean <- 130\n",
    "sample_size <- 35\n",
    "\n",
    "# Compute the test statistic\n",
    "z_score <- (sample_mean - population_mean) / (sample_sd / sqrt(sample_size))\n",
    "\n",
    "# Compute the p-value\n",
    "p_value <- pnorm(z_score)\n",
    "\n",
    "# 0.05 significance level\n",
    "alpha_1 <- 0.05\n",
    "critical_value_1 <- qnorm(alpha_1)\n",
    "\n",
    "# 0.01 significance level\n",
    "alpha_2 <- 0.01\n",
    "critical_value_2 <- qnorm(alpha_2)\n",
    "\n",
    "# Print results\n",
    "cat(\"Test Statistic (z-score):\", z_score, \"\\n\")\n",
    "cat(\"p-value:\", p_value, \"\\n\")\n",
    "\n",
    "# Decision for 0.05 significance level\n",
    "cat(\"At 0.05 significance level:\\n\")\n",
    "if (p_value < alpha_1) {\n",
    "  cat(\"Reject the null hypothesis.\\n\")\n",
    "} else {\n",
    "  cat(\"Don't reject the null hypothesis.\\n\")\n",
    "}\n",
    "\n",
    "# Decision for 0.01 significance level\n",
    "cat(\"At 0.01 significance level:\\n\")\n",
    "if (p_value < alpha_2) {\n",
    "  cat(\"Reject the null hypothesis.\\n\")\n",
    "} else {\n",
    "  cat(\"Don't reject the null hypothesis.\\n\")\n",
    "}\n"
   ]
  },
  {
   "cell_type": "code",
   "execution_count": null,
   "metadata": {
    "vscode": {
     "languageId": "r"
    }
   },
   "outputs": [],
   "source": []
  }
 ],
 "metadata": {
  "kernelspec": {
   "display_name": "R",
   "language": "R",
   "name": "ir"
  },
  "language_info": {
   "codemirror_mode": "r",
   "file_extension": ".r",
   "mimetype": "text/x-r-source",
   "name": "R",
   "pygments_lexer": "r",
   "version": "4.0.4"
  }
 },
 "nbformat": 4,
 "nbformat_minor": 2
}
