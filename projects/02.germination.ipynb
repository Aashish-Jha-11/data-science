{
 "cells": [
  {
   "cell_type": "code",
   "execution_count": 7,
   "metadata": {
    "vscode": {
     "languageId": "r"
    }
   },
   "outputs": [],
   "source": [
    "seeds_data <- read.csv(\"../datasets/germination_csv.csv\")\n"
   ]
  },
  {
   "cell_type": "code",
   "execution_count": 8,
   "metadata": {
    "vscode": {
     "languageId": "r"
    }
   },
   "outputs": [
    {
     "name": "stdout",
     "output_type": "stream",
     "text": [
      "1. Average number of seeds germinated for uncovered boxes with watering level 4: 78 \n",
      "2. Median value of germinated seeds for covered boxes: 45 \n"
     ]
    }
   ],
   "source": [
    "\n",
    "average_germinated_uncovered <- mean(seeds_data$germinated[seeds_data$Box == \"Uncovered\" & seeds_data$water_amt == 4])\n",
    "\n",
    "median_germinated_covered <- median(seeds_data$germinated[seeds_data$Box == \"Covered\"])\n",
    "\n",
    "cat(\"1. Average number of seeds germinated for uncovered boxes with watering level 4:\", average_germinated_uncovered, \"\\n\")\n",
    "cat(\"2. Median value of germinated seeds for covered boxes:\", median_germinated_covered, \"\\n\")\n"
   ]
  },
  {
   "cell_type": "code",
   "execution_count": null,
   "metadata": {
    "vscode": {
     "languageId": "r"
    }
   },
   "outputs": [],
   "source": []
  }
 ],
 "metadata": {
  "kernelspec": {
   "display_name": "R",
   "language": "R",
   "name": "ir"
  },
  "language_info": {
   "codemirror_mode": "r",
   "file_extension": ".r",
   "mimetype": "text/x-r-source",
   "name": "R",
   "pygments_lexer": "r",
   "version": "4.0.4"
  }
 },
 "nbformat": 4,
 "nbformat_minor": 2
}
